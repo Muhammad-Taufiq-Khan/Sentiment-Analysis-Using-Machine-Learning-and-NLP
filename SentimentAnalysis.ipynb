{
  "nbformat": 4,
  "nbformat_minor": 0,
  "metadata": {
    "colab": {
      "name": "TF-IDF.ipynb",
      "provenance": [],
      "collapsed_sections": []
    },
    "kernelspec": {
      "name": "python3",
      "display_name": "Python 3"
    },
    "language_info": {
      "name": "python"
    },
    "accelerator": "GPU"
  },
  "cells": [
    {
      "cell_type": "markdown",
      "metadata": {
        "id": "Y5Gc4C-rDPMu"
      },
      "source": [
        "Import Dataset from Google Drive using Pydrive"
      ]
    },
    {
      "cell_type": "code",
      "metadata": {
        "id": "pkA153hIxm_4"
      },
      "source": [
        "#Importing Dataset using Pydrive\n",
        "#Import Pydrive & Authenticate Google Drive\n",
        "!pip install -U -q PyDrive\n",
        "\n",
        "from pydrive.auth import GoogleAuth\n",
        "from pydrive.drive import GoogleDrive\n",
        "from google.colab import auth\n",
        "from oauth2client.client import GoogleCredentials\n",
        "\n",
        "\n",
        "# Authenticate and create the PyDrive client.\n",
        "auth.authenticate_user()\n",
        "gauth = GoogleAuth()\n",
        "gauth.credentials = GoogleCredentials.get_application_default()\n",
        "drive = GoogleDrive(gauth)\n"
      ],
      "execution_count": 1,
      "outputs": []
    },
    {
      "cell_type": "code",
      "metadata": {
        "id": "khQKY59A2VIR"
      },
      "source": [
        "#Import Dataset Through Viweable link\n",
        "link = 'https://drive.google.com/file/d/13rjUjizWHW4BvKaRdZdxNtdca7KcTb-l/view?usp=sharing'\n",
        "\n",
        "import pandas as pd\n",
        "\n",
        "# to get the id part of the file\n",
        "id = link.split(\"/\")[-2]\n",
        "\n",
        "downloaded = drive.CreateFile({'id':id})\n",
        "downloaded.GetContentFile('Tweets.csv')"
      ],
      "execution_count": 2,
      "outputs": []
    },
    {
      "cell_type": "markdown",
      "metadata": {
        "id": "WXZOiMI0DZOo"
      },
      "source": [
        "Load the Dataset as Pandas Dataframe\n"
      ]
    },
    {
      "cell_type": "code",
      "metadata": {
        "colab": {
          "base_uri": "https://localhost:8080/"
        },
        "id": "DcAA5LUXB1xl",
        "outputId": "8511b132-399f-46b4-9abf-51970b213857"
      },
      "source": [
        "# import pandas as pd\n",
        "\n",
        "df = pd.read_csv('Tweets.csv')\n",
        "\n",
        "print(\">>>>>>>>>>>>>>>>>>>> Description of Dataset <<<<<<<<<<<<<<<<<<<\" )\n",
        "print(df.describe())\n",
        "\n",
        "print(\">>>>>>>>>>>>>>>>>>>> Dataset <<<<<<<<<<<<<<<<<<<\" )\n",
        "print(df.head(5)) #display the first 5 column of Dataset. To view last column write df.tail()\n",
        "\n",
        "print(\">>>>>>>>>>>>>>>>>>>> Missing Values <<<<<<<<<<<<<<<<<<<\" )\n",
        "df.isnull().sum() #Check if there is any null value"
      ],
      "execution_count": 3,
      "outputs": [
        {
          "output_type": "stream",
          "name": "stdout",
          "text": [
            ">>>>>>>>>>>>>>>>>>>> Description of Dataset <<<<<<<<<<<<<<<<<<<\n",
            "           tweet_id  ...  retweet_count\n",
            "count  1.464000e+04  ...   14640.000000\n",
            "mean   5.692184e+17  ...       0.082650\n",
            "std    7.791112e+14  ...       0.745778\n",
            "min    5.675883e+17  ...       0.000000\n",
            "25%    5.685592e+17  ...       0.000000\n",
            "50%    5.694779e+17  ...       0.000000\n",
            "75%    5.698905e+17  ...       0.000000\n",
            "max    5.703106e+17  ...      44.000000\n",
            "\n",
            "[8 rows x 4 columns]\n",
            ">>>>>>>>>>>>>>>>>>>> Dataset <<<<<<<<<<<<<<<<<<<\n",
            "             tweet_id  ...               user_timezone\n",
            "0  570306133677760513  ...  Eastern Time (US & Canada)\n",
            "1  570301130888122368  ...  Pacific Time (US & Canada)\n",
            "2  570301083672813571  ...  Central Time (US & Canada)\n",
            "3  570301031407624196  ...  Pacific Time (US & Canada)\n",
            "4  570300817074462722  ...  Pacific Time (US & Canada)\n",
            "\n",
            "[5 rows x 15 columns]\n",
            ">>>>>>>>>>>>>>>>>>>> Missing Values <<<<<<<<<<<<<<<<<<<\n"
          ]
        },
        {
          "output_type": "execute_result",
          "data": {
            "text/plain": [
              "tweet_id                            0\n",
              "airline_sentiment                   0\n",
              "airline_sentiment_confidence        0\n",
              "negativereason                   5462\n",
              "negativereason_confidence        4118\n",
              "airline                             0\n",
              "airline_sentiment_gold          14600\n",
              "name                                0\n",
              "negativereason_gold             14608\n",
              "retweet_count                       0\n",
              "text                                0\n",
              "tweet_coord                     13621\n",
              "tweet_created                       0\n",
              "tweet_location                   4733\n",
              "user_timezone                    4820\n",
              "dtype: int64"
            ]
          },
          "metadata": {},
          "execution_count": 3
        }
      ]
    },
    {
      "cell_type": "code",
      "metadata": {
        "id": "KksnPX8R3hvK",
        "colab": {
          "base_uri": "https://localhost:8080/",
          "height": 206
        },
        "outputId": "550de91b-0952-4867-d360-49d0e938658b"
      },
      "source": [
        "# Drop unnecessary Attributes.\n",
        "df.drop([\"tweet_id\",\"airline_sentiment_confidence\",\"negativereason\",\"negativereason_confidence\",\"airline\",\"airline_sentiment_gold\",\"name\",\"negativereason_gold\",\"retweet_count\",\"tweet_coord\",\"tweet_created\",\"tweet_location\",\"user_timezone\"], axis = 1, inplace = True)\n",
        "df.head()\n",
        "\n"
      ],
      "execution_count": 4,
      "outputs": [
        {
          "output_type": "execute_result",
          "data": {
            "text/html": [
              "\n",
              "  <div id=\"df-f62a4262-5160-40fb-85ab-8588539cf484\">\n",
              "    <div class=\"colab-df-container\">\n",
              "      <div>\n",
              "<style scoped>\n",
              "    .dataframe tbody tr th:only-of-type {\n",
              "        vertical-align: middle;\n",
              "    }\n",
              "\n",
              "    .dataframe tbody tr th {\n",
              "        vertical-align: top;\n",
              "    }\n",
              "\n",
              "    .dataframe thead th {\n",
              "        text-align: right;\n",
              "    }\n",
              "</style>\n",
              "<table border=\"1\" class=\"dataframe\">\n",
              "  <thead>\n",
              "    <tr style=\"text-align: right;\">\n",
              "      <th></th>\n",
              "      <th>airline_sentiment</th>\n",
              "      <th>text</th>\n",
              "    </tr>\n",
              "  </thead>\n",
              "  <tbody>\n",
              "    <tr>\n",
              "      <th>0</th>\n",
              "      <td>neutral</td>\n",
              "      <td>@VirginAmerica What @dhepburn said.</td>\n",
              "    </tr>\n",
              "    <tr>\n",
              "      <th>1</th>\n",
              "      <td>positive</td>\n",
              "      <td>@VirginAmerica plus you've added commercials t...</td>\n",
              "    </tr>\n",
              "    <tr>\n",
              "      <th>2</th>\n",
              "      <td>neutral</td>\n",
              "      <td>@VirginAmerica I didn't today... Must mean I n...</td>\n",
              "    </tr>\n",
              "    <tr>\n",
              "      <th>3</th>\n",
              "      <td>negative</td>\n",
              "      <td>@VirginAmerica it's really aggressive to blast...</td>\n",
              "    </tr>\n",
              "    <tr>\n",
              "      <th>4</th>\n",
              "      <td>negative</td>\n",
              "      <td>@VirginAmerica and it's a really big bad thing...</td>\n",
              "    </tr>\n",
              "  </tbody>\n",
              "</table>\n",
              "</div>\n",
              "      <button class=\"colab-df-convert\" onclick=\"convertToInteractive('df-f62a4262-5160-40fb-85ab-8588539cf484')\"\n",
              "              title=\"Convert this dataframe to an interactive table.\"\n",
              "              style=\"display:none;\">\n",
              "        \n",
              "  <svg xmlns=\"http://www.w3.org/2000/svg\" height=\"24px\"viewBox=\"0 0 24 24\"\n",
              "       width=\"24px\">\n",
              "    <path d=\"M0 0h24v24H0V0z\" fill=\"none\"/>\n",
              "    <path d=\"M18.56 5.44l.94 2.06.94-2.06 2.06-.94-2.06-.94-.94-2.06-.94 2.06-2.06.94zm-11 1L8.5 8.5l.94-2.06 2.06-.94-2.06-.94L8.5 2.5l-.94 2.06-2.06.94zm10 10l.94 2.06.94-2.06 2.06-.94-2.06-.94-.94-2.06-.94 2.06-2.06.94z\"/><path d=\"M17.41 7.96l-1.37-1.37c-.4-.4-.92-.59-1.43-.59-.52 0-1.04.2-1.43.59L10.3 9.45l-7.72 7.72c-.78.78-.78 2.05 0 2.83L4 21.41c.39.39.9.59 1.41.59.51 0 1.02-.2 1.41-.59l7.78-7.78 2.81-2.81c.8-.78.8-2.07 0-2.86zM5.41 20L4 18.59l7.72-7.72 1.47 1.35L5.41 20z\"/>\n",
              "  </svg>\n",
              "      </button>\n",
              "      \n",
              "  <style>\n",
              "    .colab-df-container {\n",
              "      display:flex;\n",
              "      flex-wrap:wrap;\n",
              "      gap: 12px;\n",
              "    }\n",
              "\n",
              "    .colab-df-convert {\n",
              "      background-color: #E8F0FE;\n",
              "      border: none;\n",
              "      border-radius: 50%;\n",
              "      cursor: pointer;\n",
              "      display: none;\n",
              "      fill: #1967D2;\n",
              "      height: 32px;\n",
              "      padding: 0 0 0 0;\n",
              "      width: 32px;\n",
              "    }\n",
              "\n",
              "    .colab-df-convert:hover {\n",
              "      background-color: #E2EBFA;\n",
              "      box-shadow: 0px 1px 2px rgba(60, 64, 67, 0.3), 0px 1px 3px 1px rgba(60, 64, 67, 0.15);\n",
              "      fill: #174EA6;\n",
              "    }\n",
              "\n",
              "    [theme=dark] .colab-df-convert {\n",
              "      background-color: #3B4455;\n",
              "      fill: #D2E3FC;\n",
              "    }\n",
              "\n",
              "    [theme=dark] .colab-df-convert:hover {\n",
              "      background-color: #434B5C;\n",
              "      box-shadow: 0px 1px 3px 1px rgba(0, 0, 0, 0.15);\n",
              "      filter: drop-shadow(0px 1px 2px rgba(0, 0, 0, 0.3));\n",
              "      fill: #FFFFFF;\n",
              "    }\n",
              "  </style>\n",
              "\n",
              "      <script>\n",
              "        const buttonEl =\n",
              "          document.querySelector('#df-f62a4262-5160-40fb-85ab-8588539cf484 button.colab-df-convert');\n",
              "        buttonEl.style.display =\n",
              "          google.colab.kernel.accessAllowed ? 'block' : 'none';\n",
              "\n",
              "        async function convertToInteractive(key) {\n",
              "          const element = document.querySelector('#df-f62a4262-5160-40fb-85ab-8588539cf484');\n",
              "          const dataTable =\n",
              "            await google.colab.kernel.invokeFunction('convertToInteractive',\n",
              "                                                     [key], {});\n",
              "          if (!dataTable) return;\n",
              "\n",
              "          const docLinkHtml = 'Like what you see? Visit the ' +\n",
              "            '<a target=\"_blank\" href=https://colab.research.google.com/notebooks/data_table.ipynb>data table notebook</a>'\n",
              "            + ' to learn more about interactive tables.';\n",
              "          element.innerHTML = '';\n",
              "          dataTable['output_type'] = 'display_data';\n",
              "          await google.colab.output.renderOutput(dataTable, element);\n",
              "          const docLink = document.createElement('div');\n",
              "          docLink.innerHTML = docLinkHtml;\n",
              "          element.appendChild(docLink);\n",
              "        }\n",
              "      </script>\n",
              "    </div>\n",
              "  </div>\n",
              "  "
            ],
            "text/plain": [
              "  airline_sentiment                                               text\n",
              "0           neutral                @VirginAmerica What @dhepburn said.\n",
              "1          positive  @VirginAmerica plus you've added commercials t...\n",
              "2           neutral  @VirginAmerica I didn't today... Must mean I n...\n",
              "3          negative  @VirginAmerica it's really aggressive to blast...\n",
              "4          negative  @VirginAmerica and it's a really big bad thing..."
            ]
          },
          "metadata": {},
          "execution_count": 4
        }
      ]
    },
    {
      "cell_type": "code",
      "metadata": {
        "id": "srHUSMRQ3xq0",
        "colab": {
          "base_uri": "https://localhost:8080/",
          "height": 206
        },
        "outputId": "4840b404-8879-4513-a724-edf6d8bf4823"
      },
      "source": [
        "# Map alphabetical label into neumerical label\n",
        "df[\"airline_sentiment\"]= df[\"airline_sentiment\"].map({'positive':1,'neutral':0,'negative':-1})\n",
        "df.head()\n",
        "\n",
        "\n",
        "\n"
      ],
      "execution_count": 5,
      "outputs": [
        {
          "output_type": "execute_result",
          "data": {
            "text/html": [
              "\n",
              "  <div id=\"df-74e4172b-e063-48b5-803b-814b98e2c994\">\n",
              "    <div class=\"colab-df-container\">\n",
              "      <div>\n",
              "<style scoped>\n",
              "    .dataframe tbody tr th:only-of-type {\n",
              "        vertical-align: middle;\n",
              "    }\n",
              "\n",
              "    .dataframe tbody tr th {\n",
              "        vertical-align: top;\n",
              "    }\n",
              "\n",
              "    .dataframe thead th {\n",
              "        text-align: right;\n",
              "    }\n",
              "</style>\n",
              "<table border=\"1\" class=\"dataframe\">\n",
              "  <thead>\n",
              "    <tr style=\"text-align: right;\">\n",
              "      <th></th>\n",
              "      <th>airline_sentiment</th>\n",
              "      <th>text</th>\n",
              "    </tr>\n",
              "  </thead>\n",
              "  <tbody>\n",
              "    <tr>\n",
              "      <th>0</th>\n",
              "      <td>0</td>\n",
              "      <td>@VirginAmerica What @dhepburn said.</td>\n",
              "    </tr>\n",
              "    <tr>\n",
              "      <th>1</th>\n",
              "      <td>1</td>\n",
              "      <td>@VirginAmerica plus you've added commercials t...</td>\n",
              "    </tr>\n",
              "    <tr>\n",
              "      <th>2</th>\n",
              "      <td>0</td>\n",
              "      <td>@VirginAmerica I didn't today... Must mean I n...</td>\n",
              "    </tr>\n",
              "    <tr>\n",
              "      <th>3</th>\n",
              "      <td>-1</td>\n",
              "      <td>@VirginAmerica it's really aggressive to blast...</td>\n",
              "    </tr>\n",
              "    <tr>\n",
              "      <th>4</th>\n",
              "      <td>-1</td>\n",
              "      <td>@VirginAmerica and it's a really big bad thing...</td>\n",
              "    </tr>\n",
              "  </tbody>\n",
              "</table>\n",
              "</div>\n",
              "      <button class=\"colab-df-convert\" onclick=\"convertToInteractive('df-74e4172b-e063-48b5-803b-814b98e2c994')\"\n",
              "              title=\"Convert this dataframe to an interactive table.\"\n",
              "              style=\"display:none;\">\n",
              "        \n",
              "  <svg xmlns=\"http://www.w3.org/2000/svg\" height=\"24px\"viewBox=\"0 0 24 24\"\n",
              "       width=\"24px\">\n",
              "    <path d=\"M0 0h24v24H0V0z\" fill=\"none\"/>\n",
              "    <path d=\"M18.56 5.44l.94 2.06.94-2.06 2.06-.94-2.06-.94-.94-2.06-.94 2.06-2.06.94zm-11 1L8.5 8.5l.94-2.06 2.06-.94-2.06-.94L8.5 2.5l-.94 2.06-2.06.94zm10 10l.94 2.06.94-2.06 2.06-.94-2.06-.94-.94-2.06-.94 2.06-2.06.94z\"/><path d=\"M17.41 7.96l-1.37-1.37c-.4-.4-.92-.59-1.43-.59-.52 0-1.04.2-1.43.59L10.3 9.45l-7.72 7.72c-.78.78-.78 2.05 0 2.83L4 21.41c.39.39.9.59 1.41.59.51 0 1.02-.2 1.41-.59l7.78-7.78 2.81-2.81c.8-.78.8-2.07 0-2.86zM5.41 20L4 18.59l7.72-7.72 1.47 1.35L5.41 20z\"/>\n",
              "  </svg>\n",
              "      </button>\n",
              "      \n",
              "  <style>\n",
              "    .colab-df-container {\n",
              "      display:flex;\n",
              "      flex-wrap:wrap;\n",
              "      gap: 12px;\n",
              "    }\n",
              "\n",
              "    .colab-df-convert {\n",
              "      background-color: #E8F0FE;\n",
              "      border: none;\n",
              "      border-radius: 50%;\n",
              "      cursor: pointer;\n",
              "      display: none;\n",
              "      fill: #1967D2;\n",
              "      height: 32px;\n",
              "      padding: 0 0 0 0;\n",
              "      width: 32px;\n",
              "    }\n",
              "\n",
              "    .colab-df-convert:hover {\n",
              "      background-color: #E2EBFA;\n",
              "      box-shadow: 0px 1px 2px rgba(60, 64, 67, 0.3), 0px 1px 3px 1px rgba(60, 64, 67, 0.15);\n",
              "      fill: #174EA6;\n",
              "    }\n",
              "\n",
              "    [theme=dark] .colab-df-convert {\n",
              "      background-color: #3B4455;\n",
              "      fill: #D2E3FC;\n",
              "    }\n",
              "\n",
              "    [theme=dark] .colab-df-convert:hover {\n",
              "      background-color: #434B5C;\n",
              "      box-shadow: 0px 1px 3px 1px rgba(0, 0, 0, 0.15);\n",
              "      filter: drop-shadow(0px 1px 2px rgba(0, 0, 0, 0.3));\n",
              "      fill: #FFFFFF;\n",
              "    }\n",
              "  </style>\n",
              "\n",
              "      <script>\n",
              "        const buttonEl =\n",
              "          document.querySelector('#df-74e4172b-e063-48b5-803b-814b98e2c994 button.colab-df-convert');\n",
              "        buttonEl.style.display =\n",
              "          google.colab.kernel.accessAllowed ? 'block' : 'none';\n",
              "\n",
              "        async function convertToInteractive(key) {\n",
              "          const element = document.querySelector('#df-74e4172b-e063-48b5-803b-814b98e2c994');\n",
              "          const dataTable =\n",
              "            await google.colab.kernel.invokeFunction('convertToInteractive',\n",
              "                                                     [key], {});\n",
              "          if (!dataTable) return;\n",
              "\n",
              "          const docLinkHtml = 'Like what you see? Visit the ' +\n",
              "            '<a target=\"_blank\" href=https://colab.research.google.com/notebooks/data_table.ipynb>data table notebook</a>'\n",
              "            + ' to learn more about interactive tables.';\n",
              "          element.innerHTML = '';\n",
              "          dataTable['output_type'] = 'display_data';\n",
              "          await google.colab.output.renderOutput(dataTable, element);\n",
              "          const docLink = document.createElement('div');\n",
              "          docLink.innerHTML = docLinkHtml;\n",
              "          element.appendChild(docLink);\n",
              "        }\n",
              "      </script>\n",
              "    </div>\n",
              "  </div>\n",
              "  "
            ],
            "text/plain": [
              "   airline_sentiment                                               text\n",
              "0                  0                @VirginAmerica What @dhepburn said.\n",
              "1                  1  @VirginAmerica plus you've added commercials t...\n",
              "2                  0  @VirginAmerica I didn't today... Must mean I n...\n",
              "3                 -1  @VirginAmerica it's really aggressive to blast...\n",
              "4                 -1  @VirginAmerica and it's a really big bad thing..."
            ]
          },
          "metadata": {},
          "execution_count": 5
        }
      ]
    },
    {
      "cell_type": "code",
      "metadata": {
        "colab": {
          "base_uri": "https://localhost:8080/"
        },
        "id": "kXgUprBdUSCv",
        "outputId": "d5e35e9f-a737-442b-fd00-6941d58f8e76"
      },
      "source": [
        "airline_sentiment = df.airline_sentiment\n",
        "print('Positive: ', airline_sentiment.isin([1]).sum())\n",
        "print('Neutral: ',airline_sentiment.isin([0]).sum())\n",
        "print('Negative: ',airline_sentiment.isin([-1]).sum())"
      ],
      "execution_count": 6,
      "outputs": [
        {
          "output_type": "stream",
          "name": "stdout",
          "text": [
            "Positive:  2363\n",
            "Neutral:  3099\n",
            "Negative:  9178\n"
          ]
        }
      ]
    },
    {
      "cell_type": "markdown",
      "metadata": {
        "id": "GDE8R32B0Twh"
      },
      "source": [
        "View frequency of sentiment through plot"
      ]
    },
    {
      "cell_type": "code",
      "metadata": {
        "id": "9MwdBIBo3yfe",
        "colab": {
          "base_uri": "https://localhost:8080/",
          "height": 334
        },
        "outputId": "96727939-f736-4502-c610-301bbb506533"
      },
      "source": [
        "import seaborn as sns\n",
        "sns_fig = sns.countplot(\"airline_sentiment\", data = df)\n",
        "sns_fig\n",
        "import matplotlib.pyplot as plt\n",
        "plt.savefig('fig2.pdf')"
      ],
      "execution_count": 7,
      "outputs": [
        {
          "output_type": "stream",
          "name": "stderr",
          "text": [
            "/usr/local/lib/python3.7/dist-packages/seaborn/_decorators.py:43: FutureWarning: Pass the following variable as a keyword arg: x. From version 0.12, the only valid positional argument will be `data`, and passing other arguments without an explicit keyword will result in an error or misinterpretation.\n",
            "  FutureWarning\n"
          ]
        },
        {
          "output_type": "display_data",
          "data": {
            "image/png": "[encoded data removed]",
            "text/plain": [
              "<Figure size 432x288 with 1 Axes>"
            ]
          },
          "metadata": {
            "needs_background": "light"
          }
        }
      ]
    },
    {
      "cell_type": "code",
      "metadata": {
        "id": "84bS8mtncvqk"
      },
      "source": [
        ""
      ],
      "execution_count": 7,
      "outputs": []
    },
    {
      "cell_type": "code",
      "metadata": {
        "id": "li0XvyW14_hF",
        "colab": {
          "base_uri": "https://localhost:8080/",
          "height": 298
        },
        "outputId": "edd9cd65-51a9-4acd-f4e9-c50f30a9ebaf"
      },
      "source": [
        "df.groupby(\"airline_sentiment\").count().plot(kind = 'bar')"
      ],
      "execution_count": 8,
      "outputs": [
        {
          "output_type": "execute_result",
          "data": {
            "text/plain": [
              "<matplotlib.axes._subplots.AxesSubplot at 0x7fd845962350>"
            ]
          },
          "metadata": {},
          "execution_count": 8
        },
        {
          "output_type": "display_data",
          "data": {
            "image/png": "[encoded data removed]",
            "text/plain": [
              "<Figure size 432x288 with 1 Axes>"
            ]
          },
          "metadata": {
            "needs_background": "light"
          }
        }
      ]
    },
    {
      "cell_type": "code",
      "metadata": {
        "id": "DSUfQMBo5ClU",
        "colab": {
          "base_uri": "https://localhost:8080/",
          "height": 542
        },
        "outputId": "c75eff11-b6d9-473b-e4b4-f65a5676095b"
      },
      "source": [
        "# pip install plotly\n",
        "import plotly.express as px\n",
        "fig = px.pie(df, names = \"airline_sentiment\")\n",
        "fig.show()"
      ],
      "execution_count": 9,
      "outputs": [
        {
          "output_type": "display_data",
          "data": {
            "text/html": [
              "<html>\n",
              "<head><meta charset=\"utf-8\" /></head>\n",
              "<body>\n",
              "    <div>\n",
              "            <script src=\"https://cdnjs.cloudflare.com/ajax/libs/mathjax/2.7.5/MathJax.js?config=TeX-AMS-MML_SVG\"></script><script type=\"text/javascript\">if (window.MathJax) {MathJax.Hub.Config({SVG: {font: \"STIX-Web\"}});}</script>\n",
              "                <script type=\"text/javascript\">window.PlotlyConfig = {MathJaxConfig: 'local'};</script>\n",
              "        <script src=\"https://cdn.plot.ly/plotly-latest.min.js\"></script>    \n",
              "            <div id=\"340f76d0-dc3b-459a-8501-266b6e5d3b78\" class=\"plotly-graph-div\" style=\"height:525px; width:100%;\"></div>\n",
              "            <script type=\"text/javascript\">\n",
              "                \n",
              "                    window.PLOTLYENV=window.PLOTLYENV || {};\n",
              "                    \n",
              "                if (document.getElementById(\"340f76d0-dc3b-459a-8501-266b6e5d3b78\")) {\n",
              "                    Plotly.newPlot(\n",
              "                        '340f76d0-dc3b-459a-8501-266b6e5d3b78',\n",
              "                        [{\"domain\": {\"x\": [0.0, 1.0], \"y\": [0.0, 1.0]}, \"hoverlabel\": {\"namelength\": 0}, \"hovertemplate\": \"airline_sentiment=%{label}\", \"labels\": [0, 1, 0, -1, -1, -1, 1, 0, 1, 1, 0, 1, 1, 1, 1, -1, 1, -1, 1, 1, -1, 1, 1, 0, -1, -1, -1, 0, -1, 0, -1, 0, -1, -1, 1, 0, 1, 1, 0, -1, 1, -1, 0, 0, 0, 1, 0, 1, 0, 0, 0, 1, 0, 0, 0, -1, 1, 1, 0, 0, 0, -1, 0, 0, 1, 0, -1, -1, 1, -1, 0, 0, 0, -1, 1, 1, 0, 0, -1, 0, -1, 1, -1, -1, -1, -1, 0, 0, 0, -1, 0, 0, -1, -1, 0, -1, -1, -1, -1, -1, 0, -1, 0, -1, -1, 1, -1, -1, 0, 1, 0, 1, 0, 1, 1, -1, 1, 1, 1, 1, -1, -1, -1, 1, 1, 0, -1, 1, 0, 0, -1, -1, 0, -1, -1, -1, 1, 0, 1, -1, -1, 1, 0, -1, 1, -1, -1, 1, 1, -1, -1, 0, 1, 0, 0, 0, 0, -1, -1, -1, -1, -1, -1, -1, -1, -1, 0, -1, -1, 0, 0, 0, 0, -1, -1, 0, 1, -1, -1, 0, 0, -1, -1, 1, 1, 0, -1, -1, 0, 1, 0, -1, -1, 1, -1, -1, -1, -1, -1, 1, -1, 1, 0, 1, 1, 1, 1, 0, 1, -1, -1, -1, 1, -1, -1, 0, -1, -1, -1, -1, -1, -1, 1, 1, -1, 0, -1, 1, -1, 1, 1, 1, -1, 1, 1, 1, -1, -1, 1, 1, 0, 0, -1, -1, 1, -1, 1, 1, 1, -1, -1, -1, 1, 0, 1, 0, 0, 0, 1, -1, 0, 0, -1, -1, 1, -1, -1, 0, 0, 1, 0, 0, 1, 1, -1, 0, 1, 1, 0, 0, -1, 1, -1, 0, 0, 0, 0, -1, -1, -1, 0, 0, -1, 1, 0, 0, 0, 0, -1, 0, 0, -1, 0, 1, -1, -1, 1, 1, 1, 0, 0, 1, 0, 1, -1, 0, -1, -1, 0, 0, -1, -1, 0, 1, 1, 0, 0, 0, 0, -1, 0, 1, 1, 1, -1, -1, 0, 0, -1, 0, 0, 1, 1, 0, -1, -1, -1, 1, -1, -1, -1, -1, 0, -1, -1, -1, 0, 0, 1, 1, 0, 0, 1, 1, 0, 0, -1, -1, -1, 1, -1, -1, -1, 0, 1, 1, -1, 0, 1, 1, 0, 1, 0, -1, 1, 1, 0, 0, 0, 0, 0, 1, 1, 0, -1, 1, -1, 1, -1, -1, 0, 1, 0, 0, 1, 0, 1, -1, -1, -1, 0, -1, 1, 0, 0, 1, 1, -1, -1, -1, 0, 1, 1, 0, 0, -1, 0, 1, 0, 1, 1, 0, 0, -1, -1, 0, 1, 1, 0, 1, 1, 0, 0, 1, -1, 0, -1, -1, -1, -1, -1, 1, 0, 1, 1, 1, 0, -1, 0, 1, 0, 0, 0, 1, 1, 1, 1, 1, 0, -1, 1, 0, 0, 0, 0, 1, 1, 1, 0, -1, 1, -1, 0, 0, -1, -1, -1, -1, 1, 0, 1, 1, 0, 1, -1, -1, -1, 0, 1, 0, 0, 0, 1, 0, 1, 1, -1, -1, 1, -1, 0, -1, 0, -1, 0, 1, 1, 0, -1, -1, -1, 1, 0, -1, 0, 0, -1, 1, 0, -1, -1, 0, 0, -1, -1, 0, -1, -1, 0, -1, -1, -1, -1, -1, -1, -1, 0, 0, 0, 0, -1, 0, 1, -1, -1, -1, 0, -1, 1, -1, -1, -1, 1, -1, -1, -1, -1, -1, -1, -1, -1, 0, -1, -1, -1, -1, 0, 0, 1, -1, -1, -1, -1, -1, -1, -1, -1, -1, -1, 1, 0, -1, -1, -1, -1, -1, -1, -1, 1, 0, 1, 0, 0, -1, -1, -1, -1, 1, -1, -1, -1, 1, 0, 0, -1, 0, -1, 0, -1, -1, -1, -1, -1, -1, -1, 0, -1, -1, 0, 0, -1, 0, -1, -1, -1, -1, -1, -1, -1, -1, -1, 0, -1, -1, -1, 0, -1, 0, -1, -1, -1, -1, 0, -1, -1, -1, -1, 0, 0, -1, -1, -1, 0, 1, -1, -1, 0, -1, -1, 0, 1, -1, -1, -1, -1, -1, -1, -1, -1, 0, 1, 0, -1, -1, -1, -1, -1, 1, -1, -1, 1, -1, 0, -1, -1, 1, -1, -1, -1, 1, -1, -1, 0, -1, -1, 0, 0, -1, -1, 1, -1, -1, -1, -1, -1, -1, 1, -1, -1, 0, -1, 1, 1, 1, -1, 0, -1, -1, -1, -1, -1, -1, 0, -1, -1, 1, -1, -1, -1, 0, -1, -1, 0, 0, -1, 1, -1, -1, 0, -1, -1, -1, -1, 0, -1, -1, -1, -1, 1, -1, 0, -1, -1, -1, -1, -1, 0, -1, 0, -1, 0, -1, -1, 1, -1, 1, -1, -1, -1, -1, 0, 1, 1, -1, 0, -1, -1, 0, 0, -1, -1, -1, -1, -1, 0, -1, -1, -1, -1, 1, -1, -1, -1, -1, -1, 0, 1, -1, 0, 0, -1, -1, 0, 0, -1, -1, -1, -1, 0, -1, -1, -1, 0, -1, -1, -1, -1, -1, -1, -1, -1, -1, -1, 1, 1, 1, -1, -1, -1, -1, -1, -1, -1, 1, -1, -1, 1, -1, -1, -1, -1, -1, -1, 0, 1, -1, 0, -1, -1, -1, -1, -1, -1, -1, 0, -1, -1, 1, 0, 0, -1, 0, -1, -1, -1, -1, 1, 1, -1, 0, 0, 0, 1, -1, -1, 1, 1, -1, 0, 1, -1, 1, -1, 1, -1, -1, 0, 0, -1, -1, -1, -1, -1, -1, 0, -1, 0, -1, 1, -1, -1, -1, -1, 0, -1, 1, 1, -1, -1, -1, -1, 0, -1, -1, -1, 0, 0, -1, 0, -1, -1, 0, -1, 1, -1, -1, -1, -1, -1, -1, -1, 1, -1, -1, -1, -1, -1, -1, 1, 0, 1, 0, -1, -1, -1, -1, 0, -1, -1, 0, -1, 0, -1, -1, 0, -1, -1, -1, 0, -1, -1, -1, -1, -1, -1, -1, -1, -1, -1, -1, -1, -1, -1, -1, -1, -1, -1, -1, 0, 0, -1, -1, -1, -1, 1, -1, -1, -1, 1, 1, -1, -1, -1, -1, -1, 0, -1, -1, -1, -1, -1, 1, -1, 0, 1, -1, -1, -1, -1, -1, 1, 1, 1, -1, -1, -1, -1, -1, -1, -1, 0, -1, -1, 1, -1, 0, 1, 1, -1, -1, -1, -1, -1, -1, -1, -1, -1, 1, -1, -1, -1, 1, -1, -1, 0, -1, -1, -1, -1, -1, 0, 0, 0, -1, -1, -1, 1, -1, -1, -1, -1, 1, -1, -1, -1, -1, -1, -1, -1, 1, 0, -1, -1, 0, -1, -1, 1, 1, -1, -1, 1, -1, -1, 1, 0, 1, -1, -1, -1, -1, 0, -1, -1, 1, 1, 0, -1, -1, 1, 0, 1, -1, 0, -1, 1, -1, -1, -1, -1, -1, -1, -1, -1, -1, -1, -1, -1, -1, 0, -1, -1, -1, 0, -1, -1, -1, -1, -1, -1, -1, -1, -1, -1, -1, -1, -1, -1, -1, -1, -1, 1, -1, -1, -1, -1, 0, -1, -1, 0, -1, -1, -1, -1, -1, 1, -1, -1, -1, -1, -1, 1, 1, -1, -1, -1, -1, 0, 1, -1, -1, -1, 1, -1, -1, -1, 0, -1, 1, -1, -1, -1, 1, -1, -1, -1, -1, -1, -1, 0, -1, -1, 0, -1, -1, -1, -1, 0, -1, -1, -1, -1, -1, 1, -1, -1, -1, -1, -1, -1, -1, 1, -1, -1, -1, -1, 0, -1, 0, -1, 0, 0, -1, 0, 0, 1, 0, -1, -1, -1, 1, -1, -1, -1, 0, -1, 0, 1, -1, -1, -1, 0, -1, -1, 1, 0, -1, 0, -1, -1, -1, -1, -1, 0, -1, 1, 0, 0, 1, -1, 0, -1, -1, -1, -1, -1, -1, -1, -1, -1, -1, -1, -1, -1, -1, -1, 0, -1, 0, -1, -1, -1, 0, -1, -1, -1, -1, -1, -1, -1, 0, -1, 0, -1, -1, -1, -1, 1, -1, -1, -1, 0, -1, 0, -1, -1, 1, -1, 0, -1, -1, 0, -1, -1, -1, -1, 0, -1, -1, 0, 1, -1, -1, -1, 0, -1, -1, 1, -1, 0, -1, -1, -1, 0, 1, 1, -1, -1, -1, 0, -1, -1, 0, 1, -1, 0, -1, -1, -1, -1, -1, -1, 0, -1, 0, -1, -1, -1, -1, -1, -1, 0, -1, -1, 0, -1, -1, -1, -1, -1, -1, -1, -1, 1, -1, -1, -1, -1, 1, -1, -1, -1, -1, -1, -1, -1, -1, -1, -1, 0, -1, -1, -1, -1, -1, -1, -1, -1, -1, -1, -1, -1, 1, -1, -1, -1, 1, -1, -1, -1, -1, -1, -1, -1, -1, -1, -1, -1, -1, -1, -1, -1, 0, -1, 0, -1, -1, -1, -1, -1, 0, -1, -1, 0, -1, 0, -1, -1, -1, 1, -1, -1, -1, 1, -1, -1, -1, -1, -1, -1, -1, -1, -1, -1, -1, -1, 1, -1, -1, 0, 0, 1, -1, -1, 0, 1, -1, -1, 1, -1, -1, -1, -1, -1, -1, -1, -1, 1, -1, -1, 1, -1, -1, -1, -1, -1, -1, -1, -1, -1, -1, -1, -1, -1, -1, -1, 0, -1, 0, 0, -1, 0, -1, -1, -1, -1, -1, -1, -1, 1, -1, -1, -1, -1, -1, -1, -1, -1, -1, 1, -1, -1, -1, -1, -1, -1, 0, -1, -1, 1, -1, 0, 0, -1, -1, -1, 0, -1, -1, 0, -1, -1, -1, -1, -1, 0, 1, -1, -1, -1, 0, -1, -1, -1, 0, -1, -1, -1, -1, -1, -1, -1, -1, -1, -1, -1, -1, 1, 1, 0, -1, 0, 0, 0, -1, -1, -1, -1, -1, 0, 0, -1, -1, -1, -1, -1, -1, -1, -1, -1, 0, 0, -1, -1, -1, 1, -1, -1, -1, 1, -1, 0, -1, -1, 1, -1, -1, -1, 1, -1, -1, -1, -1, -1, 0, -1, -1, 1, -1, -1, -1, -1, -1, -1, 1, 1, -1, 1, -1, -1, 0, -1, -1, 0, -1, -1, -1, 1, -1, 1, -1, -1, -1, -1, 0, -1, -1, -1, -1, 0, -1, -1, -1, 1, 0, 1, -1, -1, -1, 1, -1, 1, -1, 1, 0, -1, -1, 0, 1, -1, -1, 0, 1, 0, -1, -1, -1, 1, -1, -1, -1, -1, -1, -1, -1, -1, -1, -1, -1, 0, -1, -1, -1, -1, -1, -1, -1, -1, -1, -1, -1, -1, -1, -1, -1, -1, -1, -1, 1, -1, 0, -1, -1, -1, -1, -1, 0, -1, 1, -1, -1, -1, -1, -1, -1, -1, 0, 1, 0, -1, -1, -1, -1, -1, -1, -1, -1, -1, -1, -1, 0, -1, -1, -1, -1, -1, -1, -1, -1, -1, -1, -1, -1, 1, -1, -1, 1, -1, -1, -1, 0, -1, -1, 0, 0, -1, 0, 0, -1, 0, -1, -1, -1, -1, -1, -1, -1, -1, -1, -1, -1, -1, -1, -1, 1, -1, 0, -1, -1, -1, -1, -1, -1, -1, -1, -1, -1, 0, -1, -1, -1, -1, -1, -1, -1, -1, -1, -1, 0, -1, -1, -1, -1, -1, 1, -1, -1, -1, 1, -1, -1, 0, -1, 0, -1, -1, -1, 0, -1, -1, -1, 1, -1, -1, 0, -1, -1, -1, -1, -1, 1, -1, 1, -1, 1, -1, 1, 0, -1, 0, -1, -1, 1, 0, -1, 1, 1, 0, 0, -1, 0, -1, -1, -1, 0, 1, 0, -1, 1, -1, -1, -1, -1, 0, -1, -1, -1, -1, -1, -1, -1, -1, -1, 1, -1, 0, -1, -1, -1, -1, 0, 0, -1, 0, 0, -1, 0, 0, -1, -1, -1, -1, -1, -1, -1, -1, -1, 0, -1, -1, 0, 1, 0, 0, -1, -1, -1, -1, -1, 1, -1, -1, -1, -1, -1, 0, -1, -1, -1, 1, -1, 0, -1, -1, -1, -1, -1, -1, -1, 0, 1, -1, -1, -1, -1, -1, -1, 0, -1, -1, -1, -1, -1, -1, -1, -1, -1, -1, -1, 1, 1, -1, -1, -1, 0, -1, -1, -1, -1, -1, -1, 1, -1, -1, -1, 0, -1, -1, -1, -1, -1, 0, -1, -1, -1, -1, -1, -1, -1, 1, -1, -1, -1, 0, 0, -1, -1, 1, -1, 0, 0, -1, 0, 0, -1, 0, 1, 1, -1, 1, 1, -1, -1, 0, -1, -1, 0, 0, -1, -1, 0, -1, -1, -1, -1, -1, 1, -1, -1, -1, -1, -1, -1, -1, -1, -1, -1, -1, -1, -1, -1, -1, -1, -1, -1, -1, -1, -1, -1, -1, 0, -1, -1, -1, -1, -1, -1, -1, 0, -1, -1, 1, 0, -1, -1, -1, -1, -1, 1, 0, -1, -1, -1, -1, -1, -1, -1, -1, -1, -1, -1, 0, -1, -1, 1, -1, -1, -1, -1, -1, 0, -1, 0, -1, -1, -1, 0, -1, -1, -1, -1, -1, 0, -1, -1, -1, 0, -1, -1, 0, -1, 0, -1, -1, 1, -1, -1, -1, -1, -1, 0, 1, 0, -1, -1, -1, 0, -1, -1, 0, -1, -1, -1, -1, 0, -1, -1, 0, -1, -1, -1, 0, 0, -1, -1, -1, -1, 0, -1, -1, -1, 1, -1, 0, -1, -1, -1, -1, -1, -1, 0, -1, -1, -1, -1, -1, -1, -1, -1, -1, -1, -1, -1, -1, -1, -1, -1, 0, -1, -1, -1, -1, 0, -1, -1, -1, -1, -1, -1, 1, -1, -1, -1, -1, 0, -1, 1, -1, -1, -1, 1, -1, -1, -1, -1, -1, -1, 0, -1, -1, 0, -1, -1, 0, -1, 0, -1, -1, -1, 1, 0, 0, -1, -1, -1, 0, 0, -1, -1, 0, -1, -1, 0, 0, -1, -1, -1, 0, -1, -1, 0, -1, -1, -1, -1, -1, -1, -1, -1, -1, 1, 0, -1, -1, -1, 1, 0, -1, -1, -1, -1, -1, -1, 0, 1, -1, -1, -1, -1, -1, 1, -1, -1, 1, 1, -1, 1, 0, -1, -1, -1, -1, -1, 0, -1, -1, 0, 0, -1, -1, -1, -1, 0, -1, 1, -1, -1, -1, -1, -1, 0, -1, -1, -1, -1, 0, -1, 0, -1, -1, -1, -1, -1, -1, -1, -1, -1, -1, 1, -1, 1, -1, 1, -1, -1, -1, -1, -1, -1, -1, -1, 0, -1, 1, -1, -1, 1, 1, 1, -1, -1, -1, 1, -1, -1, -1, 1, -1, 0, 1, -1, -1, -1, -1, 0, -1, -1, -1, -1, -1, -1, 0, 1, -1, -1, 1, 0, -1, -1, 0, -1, -1, -1, 0, -1, 0, 1, -1, 0, -1, -1, -1, -1, 1, -1, -1, -1, 1, 0, -1, -1, 1, 1, 0, -1, -1, -1, -1, -1, -1, 0, -1, 0, 1, -1, -1, 1, -1, -1, 0, 0, 0, -1, 0, -1, -1, 1, -1, 0, -1, -1, -1, -1, -1, -1, -1, 0, -1, -1, 0, -1, -1, -1, -1, -1, -1, -1, -1, -1, -1, -1, 1, -1, -1, -1, -1, -1, -1, 0, -1, -1, -1, 0, 1, -1, -1, -1, -1, -1, -1, -1, -1, -1, -1, -1, 0, 0, -1, 1, 0, 1, 0, 0, 1, -1, -1, -1, -1, -1, 0, -1, -1, -1, -1, -1, -1, -1, 0, -1, 0, -1, -1, -1, -1, 1, 0, -1, -1, -1, -1, -1, -1, -1, 0, -1, -1, 0, -1, 1, -1, -1, -1, -1, -1, -1, -1, -1, -1, -1, -1, -1, -1, 1, -1, -1, 0, -1, -1, -1, -1, -1, -1, 1, -1, -1, 1, -1, 0, 0, -1, 1, -1, 1, 1, 0, -1, -1, 1, -1, -1, -1, -1, -1, -1, 0, -1, 1, -1, -1, 0, -1, 1, -1, -1, -1, -1, -1, 1, -1, 1, -1, 1, 1, -1, 1, -1, -1, 0, -1, 0, -1, -1, 1, -1, -1, -1, -1, -1, -1, -1, -1, -1, -1, 1, 0, -1, -1, -1, -1, -1, 0, -1, 0, 1, -1, 0, -1, 1, 1, -1, -1, 0, -1, 1, -1, -1, 1, 0, -1, 0, -1, -1, 1, -1, 1, -1, -1, -1, -1, -1, -1, -1, -1, -1, -1, 0, 1, 0, 1, -1, -1, -1, -1, -1, -1, 0, 0, 0, -1, 0, -1, -1, -1, -1, -1, -1, 1, 1, -1, -1, 0, -1, 1, -1, -1, -1, -1, -1, -1, 1, -1, -1, -1, 0, 0, 1, -1, 1, -1, -1, -1, -1, -1, 1, -1, -1, 0, -1, -1, 0, -1, 1, -1, -1, -1, -1, -1, -1, 0, -1, -1, 1, -1, 1, 1, -1, -1, 1, -1, -1, -1, -1, -1, 1, -1, -1, 0, -1, -1, -1, -1, -1, -1, -1, -1, -1, 0, -1, -1, -1, -1, 0, -1, -1, -1, 1, 1, -1, -1, 1, -1, -1, -1, -1, 0, -1, -1, -1, 1, -1, -1, -1, -1, 1, 0, 0, -1, -1, -1, 1, -1, -1, 1, -1, -1, -1, 0, 0, -1, -1, 0, 1, -1, -1, 0, -1, -1, -1, -1, -1, 1, -1, -1, -1, -1, -1, 0, -1, -1, 0, 1, 0, -1, -1, 0, 0, -1, -1, 0, 1, -1, 0, -1, 0, 0, -1, -1, -1, -1, -1, 1, -1, 0, 0, 0, -1, -1, -1, -1, -1, 0, -1, -1, -1, 0, -1, -1, 0, 0, -1, -1, 1, 0, -1, 0, 1, -1, 0, -1, 1, -1, -1, 1, -1, 0, -1, -1, -1, 1, -1, 1, -1, -1, -1, -1, -1, -1, 1, -1, 0, 0, -1, -1, -1, -1, 1, 0, -1, -1, -1, -1, -1, -1, -1, 1, -1, -1, 0, 0, -1, 0, 1, 1, -1, 1, -1, 0, 1, -1, 0, -1, 1, 0, -1, -1, -1, 1, 0, 0, -1, 1, 0, -1, -1, 1, 1, 1, 1, -1, -1, 0, -1, 0, -1, -1, 0, -1, -1, -1, -1, -1, -1, -1, -1, -1, -1, -1, 0, -1, -1, -1, -1, 1, -1, -1, -1, -1, -1, 1, 0, 0, 1, -1, 1, -1, -1, -1, 0, -1, 0, -1, -1, -1, 1, -1, 0, -1, -1, -1, -1, -1, 0, -1, 0, -1, 1, 0, -1, -1, -1, 1, -1, -1, -1, -1, -1, 0, -1, -1, -1, 1, -1, -1, -1, -1, -1, 1, -1, 1, 0, 1, -1, -1, 0, 0, -1, -1, -1, 0, 0, -1, -1, 0, -1, -1, -1, 0, 0, -1, -1, -1, 1, 1, -1, 0, -1, -1, 0, -1, -1, -1, -1, -1, -1, -1, 0, 1, 1, 0, 0, -1, 0, -1, -1, -1, -1, -1, -1, -1, 1, -1, 0, -1, -1, -1, -1, 0, 1, -1, -1, 1, -1, 0, -1, -1, -1, -1, 0, -1, -1, -1, 1, 1, -1, -1, 0, 1, -1, -1, -1, -1, -1, -1, -1, 0, -1, 1, 0, -1, 1, -1, -1, -1, 0, 0, -1, -1, -1, -1, -1, -1, -1, -1, -1, 1, -1, -1, -1, 0, -1, 1, -1, -1, 1, 1, -1, 1, -1, 1, 0, -1, -1, -1, -1, 0, -1, 0, -1, -1, -1, 1, 1, 1, -1, 1, -1, -1, -1, 1, 1, -1, -1, -1, 1, -1, 0, 0, -1, 0, 0, -1, -1, 0, 0, -1, 1, -1, -1, 0, 0, -1, -1, -1, -1, -1, -1, -1, 1, 1, -1, 0, -1, -1, -1, -1, -1, -1, 0, -1, 0, -1, 0, -1, 1, -1, 1, -1, -1, -1, -1, -1, -1, -1, -1, -1, -1, -1, 0, -1, 1, 0, 0, -1, -1, 0, -1, -1, -1, -1, -1, -1, -1, 0, 0, -1, -1, -1, -1, -1, 1, -1, -1, 0, -1, -1, -1, -1, -1, 0, -1, -1, -1, -1, -1, -1, -1, -1, 0, -1, -1, 0, -1, -1, 0, -1, 1, -1, -1, 0, -1, -1, -1, -1, -1, 1, -1, -1, 1, 0, -1, -1, -1, -1, -1, -1, 1, -1, -1, -1, -1, -1, -1, -1, -1, -1, -1, -1, 1, -1, -1, 1, -1, -1, 1, 1, -1, 0, -1, -1, -1, 1, -1, -1, 1, 1, 1, 1, -1, 1, 1, -1, -1, 1, -1, -1, -1, 0, -1, -1, 0, -1, 0, -1, 0, 0, -1, 0, -1, 1, -1, -1, 1, 1, 0, 0, -1, -1, -1, 0, 0, -1, 0, -1, 1, 1, 1, -1, -1, 1, 1, 1, 1, -1, -1, -1, -1, -1, -1, -1, 1, -1, -1, 0, 0, -1, -1, -1, -1, -1, -1, -1, -1, -1, -1, -1, -1, -1, 0, -1, -1, 0, -1, -1, -1, 0, 0, -1, -1, -1, 0, -1, 0, -1, -1, -1, -1, 1, -1, 0, -1, -1, 0, -1, -1, 1, 0, -1, 1, 1, 0, -1, -1, -1, 1, -1, 0, 0, -1, 1, 1, 0, -1, -1, 0, -1, -1, 0, -1, -1, -1, 0, 0, 0, -1, -1, 0, -1, 0, -1, 0, 1, 1, -1, -1, -1, 1, -1, 1, -1, 0, -1, 1, -1, 0, 0, -1, 0, -1, 1, -1, -1, -1, -1, -1, -1, -1, 0, -1, -1, -1, -1, 1, -1, 0, 0, -1, -1, -1, 0, -1, -1, -1, -1, -1, 1, 0, -1, -1, 1, 0, 1, -1, -1, -1, -1, -1, 0, -1, 0, 0, -1, -1, -1, -1, -1, 1, -1, -1, 0, -1, -1, -1, -1, 0, 0, 1, -1, 0, 1, 0, 0, -1, 1, -1, -1, -1, -1, 1, 0, 0, -1, -1, -1, 0, -1, -1, -1, 0, -1, -1, -1, 0, 1, -1, -1, -1, -1, -1, -1, 0, 0, 0, -1, 0, -1, -1, 1, -1, 0, 0, -1, 0, 0, 0, 0, -1, -1, -1, -1, 1, -1, -1, 0, -1, 1, -1, 0, 1, -1, -1, 0, -1, -1, -1, -1, 0, -1, -1, 0, 0, -1, -1, -1, -1, -1, -1, -1, -1, -1, 0, -1, -1, 0, -1, -1, -1, 1, 0, -1, -1, -1, 0, 0, 1, -1, 1, -1, 1, 0, -1, 0, -1, -1, -1, 1, -1, -1, -1, 1, 1, 0, 0, 0, 1, -1, -1, 1, -1, 0, 0, 0, -1, -1, 1, -1, -1, 0, 0, 1, 1, 1, 0, 1, -1, 0, 0, -1, 0, 0, -1, 0, -1, 0, -1, -1, 1, -1, -1, 1, 1, 1, -1, -1, 1, -1, 1, 1, -1, 0, -1, 0, -1, -1, 0, 0, 1, -1, -1, 0, -1, 0, -1, 0, -1, 1, -1, 1, -1, 1, 0, 1, -1, -1, -1, -1, -1, -1, -1, -1, -1, 1, -1, -1, -1, 0, -1, -1, -1, -1, -1, -1, -1, 0, -1, -1, -1, 1, -1, 0, -1, -1, -1, -1, 1, 1, -1, -1, -1, -1, -1, 1, 1, -1, -1, -1, -1, -1, -1, 1, -1, -1, -1, 1, -1, -1, -1, -1, -1, 0, -1, -1, -1, -1, 1, 1, -1, -1, -1, -1, 1, -1, -1, -1, -1, -1, -1, -1, 0, -1, -1, -1, 1, 0, 1, 0, -1, -1, 0, -1, -1, -1, -1, -1, -1, -1, -1, 0, -1, -1, -1, -1, -1, 0, 1, -1, 1, -1, -1, -1, 1, -1, -1, 0, -1, -1, 0, -1, -1, -1, -1, -1, 0, -1, -1, -1, -1, 1, 0, -1, -1, -1, -1, -1, -1, -1, 1, -1, 0, 0, -1, 1, -1, -1, -1, -1, 0, -1, 0, -1, -1, 1, -1, -1, -1, -1, -1, 1, -1, -1, -1, -1, -1, -1, -1, 0, -1, -1, 0, 0, 0, 0, 0, -1, -1, -1, -1, -1, 0, -1, 1, -1, 1, -1, -1, 0, 0, -1, -1, 1, 0, -1, -1, 0, -1, -1, -1, -1, 1, -1, -1, -1, -1, -1, 0, -1, -1, 1, -1, -1, -1, 0, 0, -1, 1, -1, -1, -1, -1, -1, 0, 0, 0, 0, -1, -1, -1, -1, -1, 0, -1, -1, -1, 0, -1, -1, 0, 0, 1, 0, -1, -1, -1, -1, -1, -1, -1, 0, -1, -1, -1, -1, -1, -1, -1, -1, -1, -1, -1, -1, 0, -1, 1, -1, -1, -1, -1, 0, -1, -1, -1, 1, -1, -1, 0, 1, -1, -1, -1, 0, -1, -1, -1, -1, -1, 1, -1, 1, -1, -1, -1, 0, -1, 1, 0, -1, -1, -1, -1, 0, -1, -1, -1, -1, -1, -1, -1, -1, 1, -1, 1, -1, -1, -1, -1, -1, -1, -1, 0, -1, 0, -1, -1, -1, 0, 1, -1, 0, -1, 0, -1, -1, -1, 0, 1, -1, 1, 1, 0, 0, -1, 0, -1, -1, -1, -1, -1, 1, -1, 0, 0, -1, 0, 1, -1, -1, -1, -1, -1, 0, -1, -1, 1, -1, -1, 1, 0, -1, -1, 1, 1, -1, -1, -1, 0, -1, 1, 1, -1, -1, -1, 0, 0, -1, -1, -1, -1, -1, -1, -1, 1, -1, -1, -1, -1, -1, -1, -1, -1, -1, -1, -1, 0, 1, -1, -1, -1, -1, -1, -1, -1, -1, -1, -1, -1, -1, -1, -1, -1, -1, -1, -1, -1, -1, 1, 1, 0, -1, -1, 0, 0, -1, -1, -1, -1, 0, -1, 0, -1, -1, -1, -1, -1, 0, -1, -1, 1, -1, 0, 1, 0, 0, -1, 0, -1, 0, -1, -1, -1, -1, -1, 0, 0, 0, -1, 0, 0, 1, -1, 0, 0, 1, -1, -1, -1, -1, 1, -1, 0, -1, -1, 1, 1, 0, -1, 0, -1, -1, -1, 0, -1, -1, -1, -1, 0, -1, 1, 0, -1, -1, -1, -1, 0, 0, -1, -1, -1, -1, -1, -1, 1, -1, 1, -1, -1, 1, -1, -1, -1, -1, 1, 0, -1, 0, -1, -1, -1, 1, -1, -1, -1, -1, -1, -1, -1, -1, -1, -1, -1, 0, -1, -1, -1, -1, -1, -1, -1, 0, -1, -1, -1, -1, -1, 1, -1, -1, 1, 0, 1, -1, -1, -1, 0, -1, -1, 1, -1, 0, -1, -1, 1, -1, -1, -1, -1, -1, 0, -1, 0, -1, 0, 0, 1, 0, -1, -1, 0, 0, -1, 0, -1, 0, 1, -1, 0, -1, -1, 1, 1, 1, -1, -1, -1, -1, -1, 0, -1, -1, 0, 1, 0, -1, -1, -1, -1, -1, -1, -1, -1, -1, -1, -1, 0, -1, 1, 0, -1, -1, 0, -1, -1, -1, -1, -1, -1, -1, -1, -1, -1, -1, -1, 0, -1, -1, -1, -1, -1, 1, 1, 0, -1, 0, -1, 1, 0, 0, 0, 0, -1, 1, -1, 0, 1, 0, 1, -1, 0, 0, -1, 1, -1, 0, -1, 1, -1, -1, 0, -1, 0, -1, -1, 0, 1, 1, 1, -1, -1, 1, 0, 1, 1, -1, -1, 0, 1, -1, -1, -1, -1, -1, -1, -1, 0, -1, -1, -1, -1, 0, 0, -1, 0, -1, -1, -1, 0, -1, 0, -1, -1, 1, -1, -1, -1, -1, -1, -1, -1, -1, -1, -1, -1, -1, -1, 0, 0, 0, 0, -1, -1, 0, -1, -1, -1, -1, 0, 0, -1, -1, -1, 1, -1, 1, -1, -1, 0, 0, -1, -1, -1, 0, 0, 1, -1, 0, -1, 1, -1, 1, 0, -1, -1, -1, 0, 1, 1, 0, 1, 1, -1, 0, -1, -1, -1, 0, 0, -1, -1, 1, -1, 1, 1, -1, 0, 0, -1, -1, -1, 0, -1, -1, 0, 1, -1, -1, 0, 1, -1, -1, -1, -1, -1, 1, -1, -1, -1, -1, 0, -1, 0, 1, 0, -1, 1, 1, -1, -1, 0, -1, 0, -1, -1, 0, 1, -1, 1, 1, 0, 1, -1, 0, -1, 0, 1, -1, -1, -1, -1, 1, 1, 1, 1, 0, 0, -1, 0, 1, -1, 1, 1, 0, 0, 1, 1, 0, 1, -1, 0, 0, 1, -1, 1, -1, 1, -1, -1, -1, -1, -1, 1, 1, -1, -1, -1, 0, 0, 0, 0, 1, 1, 1, 1, 0, -1, -1, -1, 1, -1, 0, 1, -1, 0, 0, 1, 0, 0, 0, 0, 0, -1, 1, -1, -1, 1, 1, 1, -1, 1, -1, 0, 1, 0, 1, -1, -1, 0, -1, 1, 0, 1, -1, 0, -1, 0, 1, 0, 1, 1, -1, 0, 0, 0, 1, -1, 1, 0, 1, 0, 0, 0, -1, 0, 1, 1, -1, 0, 0, 0, 1, -1, 0, 1, -1, 0, 1, -1, -1, -1, -1, 1, -1, -1, -1, 0, -1, 1, -1, -1, 1, 1, 1, 1, 0, -1, 0, -1, 1, 0, -1, 1, -1, -1, 1, -1, -1, -1, -1, -1, 1, -1, 0, 1, -1, -1, -1, 1, -1, 0, 1, 0, -1, -1, 0, 1, -1, 0, -1, -1, -1, -1, 1, -1, 1, 1, -1, -1, 0, -1, -1, -1, 1, -1, -1, -1, -1, 1, 1, -1, 0, 0, -1, 1, 1, 0, 0, 0, 0, 0, 0, 0, 0, -1, 0, -1, 1, -1, -1, -1, 0, 0, -1, 0, 0, 0, -1, -1, -1, 0, -1, -1, 0, -1, -1, -1, -1, 0, 1, -1, -1, 0, 0, -1, -1, -1, 0, 1, -1, 1, -1, 1, 1, 0, -1, 0, -1, 0, -1, 0, 0, 1, 1, 1, -1, 1, -1, 0, -1, 1, 0, -1, 0, -1, -1, -1, -1, -1, -1, 1, -1, 1, -1, -1, -1, 1, -1, -1, -1, 1, -1, -1, 0, 1, -1, 0, 0, 1, -1, 1, 0, -1, 1, 0, -1, -1, -1, 0, -1, 1, -1, -1, 0, 0, 0, -1, 0, -1, -1, -1, 0, -1, 1, -1, -1, -1, -1, 1, -1, 0, -1, 0, 0, 0, 1, 1, -1, 0, 1, 1, 0, -1, 1, -1, -1, 0, 0, 1, -1, -1, 1, 1, 0, 1, -1, 0, 0, -1, 0, 1, 1, 1, 1, 0, 1, -1, 1, 1, 0, 0, 0, 1, -1, 1, 1, 0, 1, 0, 1, 0, 1, 1, -1, 0, -1, 0, 0, -1, -1, -1, -1, -1, -1, -1, 0, -1, 0, 1, 1, 1, 0, -1, 1, 1, 0, -1, -1, -1, 1, 0, 0, -1, -1, 1, -1, 1, -1, -1, -1, -1, 0, 1, -1, -1, -1, -1, -1, -1, 0, -1, 0, 0, 0, 1, -1, -1, 1, -1, -1, 1, -1, -1, 0, 1, 0, -1, 0, 0, 1, 1, -1, -1, -1, -1, 1, 1, -1, 1, -1, 0, -1, -1, 1, 1, -1, 0, -1, 0, -1, -1, 0, -1, 1, 0, -1, -1, -1, -1, -1, 0, -1, 0, -1, 0, -1, 0, 0, 1, -1, 1, 0, 1, 0, 0, -1, -1, -1, 1, 1, 0, -1, 1, 0, 0, -1, -1, 1, -1, 1, 0, -1, -1, -1, -1, -1, 0, 0, -1, -1, -1, -1, 0, 0, 0, -1, -1, 1, 0, 1, 1, 0, 0, -1, -1, 1, -1, -1, 1, -1, -1, 0, -1, -1, -1, 1, -1, -1, -1, -1, 0, -1, -1, 0, -1, -1, 1, -1, -1, -1, 1, -1, -1, -1, -1, -1, -1, -1, 1, -1, -1, 0, 1, -1, -1, 1, 1, -1, -1, 0, -1, -1, -1, 1, -1, -1, -1, -1, -1, 0, -1, -1, -1, -1, -1, -1, -1, -1, 1, 1, -1, -1, 1, -1, -1, -1, 0, 0, -1, -1, 1, -1, -1, 0, 0, 1, 1, 0, -1, -1, -1, -1, 1, -1, -1, 1, -1, 0, -1, -1, -1, 0, 1, -1, 1, -1, -1, 1, -1, -1, -1, -1, -1, -1, -1, -1, -1, -1, -1, -1, 0, -1, 1, -1, 1, -1, -1, -1, -1, -1, -1, -1, 1, -1, 0, -1, -1, 1, -1, -1, 1, -1, -1, 0, -1, -1, 0, -1, -1, -1, -1, -1, -1, -1, -1, -1, -1, -1, -1, 1, 0, -1, -1, -1, 0, -1, -1, -1, -1, -1, -1, 0, -1, -1, -1, -1, -1, -1, -1, -1, -1, -1, -1, -1, -1, -1, -1, -1, 1, -1, -1, -1, 1, 0, -1, -1, 0, -1, -1, 1, 0, -1, -1, -1, 0, 0, -1, -1, 0, -1, -1, -1, 0, -1, 0, -1, 1, 0, 1, 0, -1, 0, -1, 1, -1, -1, 0, -1, 0, 0, -1, -1, 1, 0, -1, -1, -1, -1, 0, -1, 0, 0, 0, -1, -1, -1, -1, -1, 1, -1, -1, 1, -1, 0, -1, -1, 0, -1, -1, 0, -1, -1, -1, -1, -1, -1, -1, -1, 0, -1, 0, 1, 1, 0, -1, 0, 0, -1, -1, 0, -1, -1, -1, -1, 0, 1, -1, -1, -1, -1, -1, -1, -1, 1, -1, 1, -1, -1, -1, 1, 1, -1, -1, -1, -1, 0, 0, -1, 1, 1, -1, -1, -1, -1, -1, -1, 1, -1, 1, -1, 1, -1, 1, -1, -1, -1, 1, -1, -1, -1, -1, -1, -1, -1, 0, -1, -1, -1, 0, -1, 0, 1, 1, -1, -1, -1, -1, -1, 0, -1, -1, -1, 0, 1, -1, -1, 0, -1, -1, -1, -1, -1, 1, -1, -1, -1, 1, 0, -1, -1, -1, -1, -1, -1, 0, -1, -1, -1, 0, -1, 0, 1, -1, 0, 0, 0, -1, -1, 0, 0, 0, -1, -1, -1, -1, 1, -1, 1, -1, 0, 0, 0, 0, -1, -1, -1, 0, -1, 0, 1, 1, 0, -1, -1, 1, -1, -1, 1, 1, 0, -1, 1, 1, -1, 0, -1, 1, 1, -1, 1, 1, 1, 1, 0, 0, 0, 1, 1, 0, -1, -1, -1, -1, -1, -1, -1, -1, 1, -1, -1, 1, 0, 1, 0, 0, -1, 1, 0, 1, 1, 1, 0, 0, 1, -1, -1, 1, 1, 0, 0, 0, 0, 1, 1, -1, 0, -1, -1, 0, 0, 0, -1, -1, 0, 0, 0, -1, -1, 0, 0, 1, -1, 0, -1, -1, -1, -1, -1, -1, 1, 0, -1, -1, 1, 1, 0, -1, 0, -1, -1, 0, 0, 1, 0, -1, -1, 0, 1, -1, 0, -1, 0, 0, -1, 0, -1, 1, -1, 0, 0, 1, 0, -1, 1, -1, -1, 0, 0, 0, -1, 0, -1, -1, 0, 0, 0, -1, 0, 0, -1, 1, 1, 1, 1, 1, 1, -1, -1, -1, 0, -1, 0, -1, 1, 0, -1, 0, -1, 0, 0, 0, 0, 0, 1, -1, -1, 1, -1, 1, 0, 0, 1, -1, -1, -1, -1, -1, 0, 0, 0, -1, 1, 0, 0, 0, 0, -1, -1, -1, -1, -1, 0, 1, -1, 0, 0, -1, -1, -1, 1, 1, 1, 1, -1, 0, 0, 1, 1, -1, 0, -1, -1, -1, 0, -1, 0, 0, -1, 0, -1, 0, 1, 1, -1, -1, 0, 0, -1, 0, 0, 0, 0, 1, 1, -1, -1, -1, -1, 1, 1, 0, 1, 0, 1, -1, 1, -1, 1, 1, -1, -1, 0, 1, -1, -1, 0, 0, -1, -1, -1, -1, -1, 0, 0, 1, 1, -1, -1, -1, -1, 0, 0, -1, 0, -1, -1, 1, -1, 1, -1, -1, 1, 1, -1, 0, 0, -1, -1, 1, -1, 1, 1, 0, -1, -1, -1, 1, -1, 0, -1, -1, -1, 1, 0, 1, 1, 1, -1, -1, 1, 1, 0, -1, 0, -1, -1, -1, -1, -1, 1, 1, 0, 0, 0, -1, -1, 0, -1, -1, 1, -1, 1, -1, -1, -1, -1, -1, -1, -1, 0, 1, 1, 1, -1, -1, 0, -1, 1, -1, -1, 0, 1, -1, -1, -1, 1, 1, 1, -1, 0, -1, -1, 1, -1, 1, 1, 0, 0, 0, -1, 0, -1, 1, 1, 0, 0, 0, -1, -1, 0, 0, 1, 0, -1, -1, 1, 1, -1, 1, -1, -1, 0, 0, 0, 1, -1, -1, -1, 1, 1, -1, 1, 0, 1, -1, 1, 0, 0, 0, 1, 1, -1, 0, 0, 1, -1, -1, 1, 1, 0, -1, 0, 0, -1, -1, 1, 0, 1, 1, 0, 1, -1, 0, 1, -1, -1, -1, -1, 0, 0, 0, -1, -1, -1, 0, 1, 1, -1, -1, -1, 0, -1, -1, 1, 0, 0, 0, 0, 1, 0, -1, 0, 0, -1, -1, 0, -1, 1, 0, -1, 1, 0, 0, 1, -1, -1, -1, 1, -1, -1, -1, -1, -1, -1, -1, 1, 1, 1, 1, 1, 0, -1, 1, -1, 1, -1, 0, -1, -1, -1, 1, 1, 0, 1, 1, 0, -1, 0, 1, 0, -1, -1, 0, 0, -1, -1, -1, 1, -1, 0, 0, 1, 1, 1, 0, 1, 1, 0, 0, -1, 1, 0, 1, -1, -1, -1, -1, 0, 1, -1, 1, 1, 0, 0, 0, 1, 1, -1, 0, -1, 0, 0, 1, 1, -1, 1, 1, -1, 1, 0, 0, 0, -1, 1, -1, 0, 0, 0, 0, -1, -1, 0, -1, 1, 1, -1, 1, 0, 0, 0, -1, -1, 1, -1, 1, 0, 1, 0, 0, 0, 1, 0, 1, -1, -1, 0, -1, 0, -1, -1, 1, -1, 0, 1, -1, 1, 1, 0, 0, 0, 0, 0, -1, 0, 1, 0, 1, 1, -1, -1, 0, 0, 0, 0, 0, -1, 1, 0, 0, 0, 1, -1, 1, -1, 1, -1, 1, -1, 1, 0, 0, -1, 0, -1, 0, -1, 0, 1, -1, -1, 1, 0, -1, 1, -1, 1, -1, -1, 0, 1, 0, 0, 1, 0, -1, 0, -1, 1, -1, 0, 1, -1, 0, -1, -1, 1, 0, 0, 0, 1, 0, 1, 0, -1, 1, 1, 0, 1, -1, 0, -1, 0, -1, -1, -1, 0, -1, -1, 1, -1, -1, 1, -1, 0, -1, -1, 1, 1, 1, 0, -1, -1, -1, 1, 1, 0, 0, -1, 0, 0, 1, 1, 0, 0, -1, -1, -1, 1, 0, 0, 1, -1, -1, 1, 1, -1, -1, 1, 0, 1, 0, 0, -1, 0, -1, -1, 0, 0, 0, 0, -1, -1, 0, -1, 1, 1, -1, 0, -1, 0, 0, -1, 0, 1, 1, -1, 0, 1, 0, 0, 0, -1, 0, 1, 0, 1, 1, 0, -1, -1, 0, 1, 0, -1, 0, -1, 0, -1, -1, 1, 0, 0, 0, 1, -1, 1, -1, -1, -1, 1, 0, 0, 1, 1, -1, -1, -1, 1, 1, 1, -1, 0, 1, -1, 0, 1, 1, 0, 0, 1, -1, 0, 0, -1, 0, 0, 0, 0, 0, -1, 0, -1, -1, -1, 1, -1, 0, 1, 0, -1, -1, -1, 1, 0, -1, -1, -1, 1, -1, 1, -1, 0, -1, -1, 0, -1, -1, -1, 0, -1, -1, -1, -1, -1, 0, -1, -1, -1, -1, -1, 1, -1, 0, 1, -1, 1, 0, -1, -1, 1, -1, 0, 0, 1, 1, 1, 0, 0, 1, 1, 0, 0, 0, 0, 1, -1, -1, 0, 0, -1, -1, -1, -1, 1, 0, 0, 1, 1, 0, 1, 1, 1, -1, -1, -1, 0, 0, -1, -1, 1, -1, -1, -1, 1, 1, -1, -1, -1, -1, -1, 1, -1, 1, -1, -1, 1, 1, -1, -1, -1, 1, 1, -1, 0, -1, 1, -1, 0, -1, 1, -1, 1, -1, -1, 1, -1, -1, 0, 0, -1, 0, -1, -1, 0, -1, 0, 1, 1, 1, -1, 0, 1, -1, 1, -1, 1, -1, -1, -1, 1, -1, 0, 1, -1, -1, -1, 1, 1, 1, -1, -1, 0, -1, -1, -1, 0, -1, 1, -1, 1, -1, -1, 1, -1, -1, -1, -1, -1, -1, 0, 1, -1, -1, 0, 1, 1, -1, 0, -1, -1, -1, -1, -1, -1, 1, -1, -1, -1, -1, -1, 0, -1, 1, -1, -1, 1, 0, -1, 1, -1, -1, -1, -1, -1, 0, -1, 0, 1, -1, 1, -1, 0, 1, -1, 0, 0, -1, 0, -1, -1, 0, 1, 0, 1, 0, -1, -1, 1, -1, 0, -1, -1, -1, 0, 0, 1, 0, -1, 1, 1, 0, 1, -1, -1, -1, 1, 0, -1, -1, -1, -1, 0, -1, -1, 1, 0, -1, -1, 0, 1, 0, -1, -1, -1, 0, 1, -1, -1, 1, -1, 0, 1, 0, 0, -1, 1, 0, -1, -1, 1, 0, 0, 0, 0, 1, -1, 0, -1, -1, -1, -1, 0, -1, 1, -1, -1, -1, -1, 1, -1, -1, 1, -1, -1, -1, -1, -1, 1, 0, -1, -1, -1, -1, 0, 1, -1, -1, 0, -1, -1, 1, -1, -1, -1, -1, -1, -1, -1, -1, -1, -1, -1, 1, -1, 0, 0, -1, 0, 0, -1, -1, -1, -1, 1, 1, -1, -1, 1, 1, 0, 0, 0, 1, 1, 1, 0, 1, 1, -1, -1, 0, 0, -1, -1, -1, -1, -1, 0, 1, 0, 1, 0, -1, 0, -1, 0, 1, -1, 1, -1, -1, 1, 0, 0, 0, -1, -1, -1, 0, 0, -1, -1, -1, -1, -1, -1, -1, 0, -1, -1, 0, 0, -1, -1, 1, -1, -1, -1, -1, 1, 1, 0, 0, -1, -1, -1, 0, 0, -1, 1, -1, -1, -1, -1, 0, -1, -1, -1, -1, 1, -1, -1, -1, -1, -1, 0, 0, -1, -1, 1, -1, -1, 1, 0, 0, -1, -1, 0, 0, -1, -1, -1, -1, 0, -1, 1, 0, 0, -1, -1, 0, 0, 0, -1, -1, 0, -1, 1, 1, 0, 1, 1, 0, -1, -1, -1, 0, -1, 1, 1, -1, 1, -1, -1, -1, 1, 0, 0, 0, 0, 0, -1, 0, 0, 0, 0, 1, 0, 1, 0, 0, 1, 1, 1, 0, 0, 0, 1, 1, -1, 0, 1, -1, 1, 0, 0, 1, 1, 1, 1, 1, 1, 1, -1, -1, 1, 1, 1, -1, -1, 0, 0, 0, 0, 1, 1, 1, -1, -1, -1, -1, -1, 0, -1, 1, -1, 0, 1, -1, 1, 0, -1, 0, 1, 0, -1, 1, 0, 1, -1, 0, -1, 0, -1, -1, -1, 0, 0, 1, 0, 1, -1, 1, 0, -1, -1, -1, 0, -1, -1, -1, -1, -1, -1, -1, -1, -1, -1, -1, 0, 0, 1, 1, 0, -1, -1, -1, 0, 0, 0, 0, 0, -1, -1, 0, -1, -1, -1, -1, 0, 0, 0, 0, 1, 0, 0, -1, -1, 0, 0, 0, 1, 0, -1, 0, 0, 1, 0, 0, 0, 0, 1, 0, -1, 1, 0, -1, -1, 0, 0, 0, 1, 0, 0, -1, 0, 0, 0, -1, -1, -1, 1, 0, -1, 0, -1, 0, 0, 0, 0, 0, 0, 1, 1, 1, 0, 1, 0, 0, -1, 0, 1, 0, 0, 0, 1, -1, -1, 0, -1, 0, 0, 0, 0, 0, 0, 0, 0, 0, 0, -1, 0, 0, 0, 0, 0, -1, -1, 0, 0, 0, 1, 0, 0, 0, -1, -1, -1, 1, 0, 0, 0, 0, 0, 0, 1, 0, 0, 0, 0, 0, 1, 1, -1, 0, -1, 0, 0, 0, -1, -1, 0, 0, -1, 1, 0, 1, -1, 0, 0, 0, -1, 1, -1, -1, 0, -1, 0, 0, 0, 0, 0, 1, 0, -1, 0, 0, 0, 0, 0, 1, 1, 0, -1, 0, -1, 0, 0, 0, -1, 0, 0, -1, 1, 0, -1, 0, -1, 0, 0, 1, 0, 0, -1, 0, 0, 1, 0, 0, 0, 0, 0, 0, 0, 1, 0, -1, 0, 0, 0, -1, 0, 0, 0, -1, 0, -1, 0, 1, 0, 0, -1, -1, 0, 0, -1, -1, 1, -1, -1, 1, 0, -1, 0, 1, 0, 0, -1, -1, 1, -1, 1, 0, -1, 0, 1, 0, 1, -1, 0, 1, 0, 1, -1, 0, -1, 0, 0, 0, 0, -1, 0, -1, -1, 0, 0, 1, 0, 1, 0, -1, 1, 1, 0, 1, 0, 0, 1, -1, 1, -1, 0, 1, 1, 1, -1, -1, 1, -1, 0, 0, 0, -1, -1, 1, -1, 0, 0, 1, 0, 0, -1, -1, 0, 1, 0, 0, 1, 0, 0, -1, 0, 1, -1, 0, 0, 0, -1, 0, 1, 1, 1, -1, 1, 0, 1, -1, -1, -1, 0, 1, -1, 1, 0, -1, -1, -1, -1, 0, -1, -1, -1, 1, -1, -1, -1, -1, 0, -1, 1, -1, -1, -1, 0, 1, -1, -1, 0, 1, -1, -1, 1, -1, -1, -1, 0, 1, -1, 1, -1, -1, 0, -1, -1, 1, -1, 0, -1, -1, -1, 1, 1, -1, -1, -1, 0, -1, -1, -1, 1, 1, 0, -1, 0, -1, 1, -1, -1, -1, 1, 1, 0, -1, -1, -1, -1, -1, -1, -1, -1, 1, 1, -1, -1, -1, -1, 1, 1, -1, 0, -1, 1, -1, 1, -1, -1, 1, -1, -1, 0, 0, -1, -1, -1, -1, 0, 0, -1, -1, -1, -1, -1, -1, -1, -1, -1, -1, -1, -1, 1, -1, 0, -1, -1, -1, -1, -1, 0, 1, 0, 1, -1, 0, -1, -1, -1, -1, 0, -1, -1, -1, -1, 1, -1, -1, 1, 0, -1, 0, -1, 0, -1, 1, 0, -1, -1, -1, 0, 0, -1, -1, 1, 0, -1, -1, -1, 0, -1, -1, 0, -1, 0, 0, -1, -1, -1, -1, -1, 0, -1, -1, -1, -1, -1, -1, -1, -1, -1, 1, -1, -1, -1, -1, -1, -1, -1, 0, 0, -1, 0, -1, -1, 0, -1, -1, 0, -1, -1, 1, 0, 1, -1, -1, -1, 1, -1, 0, -1, -1, 1, -1, -1, -1, 1, -1, -1, 0, -1, 0, 1, -1, -1, 0, -1, -1, 0, 1, 0, -1, -1, 0, -1, -1, 1, 1, 1, -1, 0, -1, -1, 0, 0, -1, -1, -1, 1, 0, 1, 1, 1, -1, 1, -1, -1, -1, -1, -1, -1, -1, -1, 0, -1, 0, -1, -1, -1, 1, -1, -1, -1, -1, -1, 1, -1, -1, -1, -1, 0, -1, 0, -1, -1, 0, -1, 0, -1, -1, -1, -1, -1, 1, 1, -1, -1, 0, 1, -1, -1, -1, -1, -1, 1, -1, -1, -1, 0, -1, 1, -1, 0, 1, -1, -1, -1, -1, -1, -1, -1, -1, 1, -1, 1, -1, 1, 1, -1, 0, 1, -1, 1, -1, 0, -1, -1, 0, -1, -1, -1, 1, 1, -1, -1, -1, -1, -1, 1, -1, 1, 0, -1, -1, 0, -1, -1, -1, 1, -1, -1, 0, 1, -1, -1, 0, 1, 1, 0, 1, -1, 0, 0, -1, -1, -1, 1, -1, 1, 0, -1, -1, 1, -1, 1, -1, -1, 1, -1, 0, 1, -1, 0, -1, 0, -1, 0, -1, 0, -1, -1, -1, -1, -1, 0, -1, -1, 0, 1, -1, -1, -1, 0, -1, 1, -1, 1, 1, 1, -1, 1, 0, -1, -1, -1, -1, 1, -1, 1, -1, 0, 1, -1, 0, 0, 0, -1, -1, -1, -1, 1, -1, 1, -1, -1, 0, 1, 1, -1, -1, 1, -1, 0, 1, 0, -1, 0, -1, -1, 0, -1, -1, 0, -1, 0, -1, -1, -1, -1, -1, -1, -1, 0, 1, 1, 1, 1, -1, -1, -1, 0, 1, -1, 1, 1, 1, 0, 0, 1, 1, 0, 1, 0, -1, 1, 1, -1, 0, -1, 0, 1, 1, -1, 0, 1, 1, 1, 1, 0, 0, 0, 0, -1, 0, -1, -1, 1, 1, 1, -1, -1, 0, 0, -1, 0, -1, -1, -1, 0, 1, 0, -1, -1, 1, -1, 0, 0, -1, -1, 0, 0, -1, -1, -1, -1, 0, -1, -1, -1, 1, 1, 1, -1, -1, -1, -1, 1, 0, 0, -1, 1, 0, 1, 0, 1, 0, 0, -1, -1, -1, -1, 1, 0, -1, -1, -1, 0, -1, -1, -1, 0, -1, -1, 0, -1, -1, 1, 0, 0, 1, -1, 0, 0, 0, -1, -1, 1, 1, 1, 1, 1, -1, 0, 1, 0, 1, -1, -1, -1, -1, -1, 0, -1, -1, -1, -1, 0, 1, 0, 1, 0, 0, 0, 1, 1, -1, -1, -1, -1, 0, 1, -1, 1, 0, 0, 0, 0, 0, 0, 0, 0, 0, -1, 0, 1, -1, 1, 0, -1, 1, 1, 0, 1, 0, 1, 1, 1, 1, 0, 1, 0, 0, 0, 0, 0, 0, -1, -1, -1, 1, 0, 0, -1, -1, -1, -1, -1, -1, 0, -1, -1, -1, 1, 1, 1, -1, 1, 0, 0, 1, 0, 1, 1, -1, 0, -1, 0, -1, 0, 0, -1, 1, 0, 0, 0, -1, 1, -1, 0, -1, -1, -1, 0, -1, 1, 0, 0, 0, 0, -1, 1, 1, 0, 0, -1, -1, 1, 1, -1, -1, 1, -1, -1, 1, 1, -1, -1, 0, 0, -1, -1, -1, -1, -1, -1, -1, 0, 1, 0, 0, 0, 0, -1, 0, 1, -1, -1, -1, -1, 1, -1, 0, -1, -1, -1, -1, 0, 0, 1, 0, 0, 1, 1, 1, 0, -1, 1, -1, -1, 1, 0, 0, 0, 1, 1, 1, 0, 1, 0, -1, 0, -1, -1, 0, -1, -1, -1, 1, 0, 1, -1, 0, 1, 0, 0, 1, 0, 1, 0, 0, 1, 1, 0, 1, 0, 0, 0, 1, 1, 0, 0, 1, 1, -1, 0, 1, 1, -1, 1, 1, 0, -1, -1, 0, 0, 1, -1, 0, 0, 0, -1, 1, -1, 0, 0, 1, 1, -1, 0, -1, -1, 1, -1, -1, 1, -1, 0, -1, 1, 1, -1, 1, 0, 1, 1, -1, 1, 0, -1, 1, 0, 0, 1, 0, 1, 1, 1, -1, 0, -1, 1, -1, 0, -1, -1, -1, 0, -1, -1, -1, 1, 0, 0, -1, -1, 0, -1, -1, 0, -1, 1, -1, 1, 1, 0, 0, -1, -1, 0, 0, 0, 1, 0, 0, 0, 0, 0, 0, 0, -1, -1, -1, 0, -1, -1, 0, 0, 1, 0, 0, -1, -1, 0, 0, -1, 1, -1, 1, 1, 0, -1, -1, 0, -1, -1, -1, -1, -1, -1, -1, 1, -1, -1, 1, 0, 1, 0, -1, -1, -1, -1, 1, 0, 0, 0, 1, 0, 1, -1, -1, 0, 1, 1, -1, -1, 1, -1, 0, -1, -1, 1, -1, 0, 0, 1, 1, 0, 1, 1, 0, -1, -1, -1, 1, -1, -1, -1, -1, -1, 1, -1, 1, 1, -1, 0, 0, 1, 0, 0, -1, -1, 0, 1, 1, 0, 0, 0, -1, -1, 1, -1, 1, 1, 1, -1, 0, -1, -1, -1, -1, -1, -1, 1, 1, 0, -1, 1, -1, -1, 0, 1, 0, 1, 0, 1, 1, 0, 0, -1, 0, -1, 0, -1, 0, 1, 0, -1, 1, -1, 0, 0, -1, -1, 1, 0, 0, -1, 1, 0, 0, 0, 1, -1, 1, -1, -1, 0, 1, 0, 0, -1, 1, 0, -1, -1, -1, 1, 1, 0, -1, -1, -1, 1, -1, 0, -1, 0, -1, -1, 0, -1, -1, 1, -1, -1, 1, 0, 0, -1, 1, 0, -1, 1, -1, -1, -1, -1, 1, 1, 0, 1, -1, 1, -1, 1, 1, 0, 1, -1, -1, 0, -1, -1, -1, -1, -1, 0, -1, -1, -1, -1, 1, 1, -1, -1, -1, -1, -1, -1, -1, -1, -1, 1, -1, -1, -1, -1, -1, -1, -1, -1, 1, 1, 1, -1, 1, -1, -1, 1, 1, 1, -1, 1, -1, -1, 1, -1, 0, -1, 1, 0, 1, -1, 0, -1, -1, 1, -1, 0, 1, 0, -1, 0, -1, 1, 0, -1, 0, 1, 1, -1, 1, 0, 0, 1, 0, 0, 1, -1, 1, -1, -1, -1, 1, -1, 1, -1, 1, -1, 0, -1, 0, 1, 0, 0, -1, -1, -1, 1, -1, 0, 1, -1, -1, 1, 1, 1, 0, -1, -1, -1, 1, 0, 0, 0, -1, 0, -1, 0, 1, 1, 0, 1, 1, -1, -1, 0, 1, 1, 0, -1, 0, -1, -1, 0, -1, 0, 1, 0, -1, -1, -1, -1, 0, -1, -1, 0, -1, -1, 0, -1, 0, -1, -1, 1, -1, 0, -1, 0, -1, -1, -1, 1, -1, 0, 0, 0, 0, 0, 0, 1, 0, -1, -1, 1, -1, -1, 0, 1, -1, 0, 1, -1, 0, -1, 1, 1, -1, 1, 1, 0, 0, 1, 1, 0, -1, -1, 0, -1, 0, 0, 0, 0, 0, -1, 0, 1, 0, 1, 0, -1, 1, -1, 1, -1, 0, 0, 0, 1, 0, 1, 0, -1, 0, -1, -1, 0, -1, -1, 0, 0, 0, 0, 0, -1, 0, 0, 1, 0, -1, -1, -1, 0, 1, -1, 0, 1, 1, 1, 1, 0, -1, 1, -1, 0, 1, -1, -1, -1, -1, 0, 1, 1, -1, -1, 1, 0, 1, 1, -1, -1, 1, 1, -1, -1, 1, -1, -1, 0, 1, 0, 1, 1, 1, 0, 1, 1, -1, 0, -1, -1, -1, 1, -1, 1, 0, -1, -1, 1, 1, -1, -1, 1, -1, 1, 1, -1, 1, 1, 0, 0, -1, -1, 1, -1, 1, 1, 1, -1, -1, 0, 0, -1, 1, -1, -1, 1, -1, -1, -1, -1, -1, 0, 1, 1, 0, 0, 0, 0, 0, 0, 1, 0, -1, 0, -1, -1, -1, -1, -1, 1, 0, 1, 1, 1, 0, 1, 0, 0, 1, -1, -1, -1, -1, 1, 0, 0, 0, 0, -1, 1, -1, 1, -1, 1, 0, -1, -1, -1, 1, -1, 1, 0, 1, 0, 1, -1, 0, -1, -1, 0, -1, -1, -1, -1, -1, -1, -1, -1, -1, 0, -1, -1, -1, -1, 1, 1, 0, -1, 0, -1, 1, -1, -1, -1, -1, -1, -1, -1, 0, -1, -1, 1, -1, 0, -1, -1, -1, 1, -1, -1, -1, -1, -1, -1, -1, -1, 0, 1, 0, 0, 1, -1, -1, 0, 1, -1, 0, 1, 1, 0, -1, -1, 0, 1, 1, 1, 1, -1, -1, -1, 0, -1, 1, -1, 0, -1, -1, 1, 0, 1, -1, 0, 0, -1, 0, 0, 1, -1, 0, -1, -1, 0, 0, 1, 0, 1, -1, 0, 0, 0, 0, 0, 1, -1, 0, 1, 0, 1, 1, 1, -1, -1, -1, 0, 0, 0, 0, 0, 1, 1, 0, 0, 0, 0, 1, 0, 0, 1, 0, -1, 1, -1, 1, -1, -1, -1, -1, 0, -1, 1, 0, 0, 0, 1, 0, -1, -1, 1, -1, -1, 1, -1, 0, 0, 1, 1, 0, 1, 0, 1, 1, -1, 0, 0, -1, 1, 0, 0, -1, 0, 1, -1, 1, 1, 1, -1, -1, 1, -1, 0, 0, -1, 0, -1, 0, -1, -1, 1, 1, 0, 1, -1, -1, 0, -1, 0, 1, 0, 1, 0, 0, -1, 1, -1, 0, 0, -1, -1, 0, 1, 1, 0, -1, 0, -1, -1, 0, 0, -1, 0, -1, -1, 1, 0, -1, -1, 0, -1, -1, -1, 0, -1, -1, 1, -1, -1, 0, -1, -1, -1, -1, 1, -1, 0, 0, 0, 0, 1, -1, 0, -1, 1, 0, -1, -1, -1, 0, -1, 0, 0, -1, -1, -1, -1, -1, -1, -1, -1, 0, -1, -1, -1, 1, 0, 0, -1, -1, -1, -1, 0, -1, -1, -1, 1, 0, -1, 0, -1, -1, -1, -1, -1, 1, 0, 0, -1, 0, -1, -1, -1, 0, 0, -1, 0, -1, 0, -1, 0, 0, 0, -1, -1, 0, 1, -1, 0, -1, -1, -1, -1, 1, -1, -1, 1, -1, -1, -1, -1, -1, -1, -1, 1, -1, -1, -1, -1, -1, -1, -1, -1, -1, -1, -1, -1, -1, -1, -1, -1, -1, -1, -1, 0, -1, 1, 0, 0, 1, -1, 0, -1, -1, -1, -1, 1, -1, -1, -1, -1, -1, -1, -1, -1, -1, -1, -1, -1, -1, -1, 0, -1, 0, -1, -1, -1, -1, -1, -1, -1, -1, -1, 1, -1, -1, 1, -1, -1, -1, 1, -1, -1, -1, -1, -1, -1, -1, -1, -1, 1, -1, -1, -1, -1, -1, -1, -1, -1, 0, 0, -1, -1, -1, -1, -1, -1, -1, -1, -1, -1, -1, -1, -1, -1, -1, -1, -1, -1, -1, 1, -1, -1, -1, 0, -1, -1, -1, -1, -1, -1, -1, -1, 0, -1, -1, 0, -1, -1, -1, -1, -1, -1, -1, -1, -1, -1, 0, -1, -1, -1, -1, 0, 1, 0, -1, -1, -1, -1, -1, -1, -1, -1, -1, -1, -1, -1, -1, -1, -1, -1, 1, -1, -1, -1, 1, -1, -1, 0, -1, -1, -1, -1, -1, -1, 0, -1, 0, 0, 0, -1, -1, -1, -1, -1, -1, -1, -1, -1, -1, 1, -1, -1, -1, -1, -1, 0, -1, -1, 0, 0, 0, 0, -1, 0, -1, -1, 1, 0, -1, -1, 0, -1, -1, -1, -1, -1, 0, -1, -1, -1, 0, -1, -1, -1, -1, 1, -1, 0, 0, 0, -1, 0, -1, -1, 1, -1, 0, -1, -1, -1, -1, -1, -1, -1, 0, 1, -1, 1, -1, -1, -1, 0, -1, 1, -1, -1, 1, -1, -1, -1, 1, -1, -1, -1, 0, 0, -1, -1, -1, -1, -1, -1, 0, 1, 0, -1, -1, -1, -1, -1, -1, 0, 1, -1, -1, -1, -1, 0, -1, -1, 0, -1, -1, -1, 0, 0, -1, 1, 1, 0, -1, -1, -1, -1, 0, -1, -1, -1, -1, -1, -1, -1, -1, -1, 1, 1, -1, -1, 0, 1, -1, -1, -1, -1, -1, -1, 0, -1, 0, -1, -1, -1, 0, -1, -1, -1, -1, -1, -1, -1, -1, -1, -1, 0, -1, -1, -1, -1, -1, -1, -1, -1, -1, -1, -1, -1, -1, -1, -1, -1, -1, -1, -1, -1, -1, -1, -1, -1, -1, -1, -1, -1, -1, 1, -1, -1, -1, -1, 0, -1, -1, 1, -1, 1, -1, -1, -1, -1, -1, -1, -1, 0, 1, -1, -1, -1, -1, -1, -1, 0, -1, -1, -1, -1, -1, 0, 0, 0, -1, -1, 1, -1, -1, -1, 0, -1, -1, -1, -1, -1, 1, 0, 1, 1, -1, -1, -1, -1, 0, -1, -1, -1, 1, -1, -1, -1, -1, 0, -1, -1, -1, -1, -1, -1, 1, -1, -1, -1, -1, -1, -1, -1, -1, 0, -1, -1, -1, -1, -1, 0, -1, -1, -1, -1, -1, -1, -1, -1, -1, -1, -1, -1, -1, -1, -1, -1, -1, -1, -1, 1, 0, 1, -1, -1, -1, 0, -1, 0, -1, -1, -1, -1, 0, -1, -1, -1, -1, -1, 1, 0, -1, -1, 0, 0, -1, -1, 0, 1, 1, -1, -1, -1, -1, -1, 1, -1, 0, -1, 0, 0, -1, 0, -1, 0, -1, -1, 1, -1, 0, -1, 0, -1, -1, -1, -1, -1, -1, -1, -1, -1, -1, -1, -1, -1, -1, 1, -1, 0, -1, 1, -1, -1, -1, -1, -1, -1, -1, -1, -1, -1, -1, -1, -1, -1, -1, -1, -1, -1, -1, -1, -1, -1, -1, -1, -1, -1, -1, 0, 1, -1, -1, -1, -1, -1, -1, -1, -1, -1, -1, -1, 1, -1, -1, -1, -1, -1, -1, -1, -1, 1, -1, -1, -1, -1, -1, -1, 0, -1, -1, -1, -1, 0, -1, -1, -1, -1, -1, -1, -1, -1, -1, -1, -1, -1, -1, 0, -1, -1, -1, -1, -1, -1, -1, -1, 1, -1, -1, -1, -1, -1, -1, 1, -1, -1, -1, -1, -1, -1, -1, 0, 0, -1, -1, -1, -1, -1, -1, -1, -1, -1, -1, -1, -1, 0, -1, -1, -1, -1, -1, -1, -1, -1, -1, -1, -1, 1, -1, -1, 1, -1, 0, -1, -1, 1, -1, 0, -1, -1, 0, -1, 0, -1, 1, -1, -1, 1, -1, -1, -1, -1, 0, -1, -1, -1, -1, -1, -1, -1, -1, -1, -1, -1, -1, 0, -1, 1, -1, -1, -1, -1, -1, 1, -1, -1, -1, -1, 0, -1, 0, -1, -1, 0, -1, -1, -1, -1, -1, -1, -1, 0, -1, 0, -1, -1, -1, -1, -1, -1, -1, -1, -1, 0, -1, -1, -1, -1, -1, -1, -1, -1, -1, -1, -1, 0, -1, -1, -1, -1, -1, -1, -1, -1, -1, -1, 0, -1, 0, -1, -1, -1, -1, 1, -1, -1, -1, -1, -1, -1, -1, -1, -1, -1, 0, -1, -1, -1, -1, -1, -1, 0, -1, -1, -1, -1, -1, -1, -1, -1, -1, 1, -1, -1, -1, -1, -1, -1, -1, -1, -1, -1, -1, -1, -1, 0, -1, 0, -1, -1, -1, -1, -1, -1, 0, -1, 0, -1, -1, 0, -1, -1, 0, -1, -1, -1, -1, 1, -1, -1, -1, -1, -1, 0, -1, -1, -1, -1, -1, -1, -1, -1, -1, -1, -1, 1, -1, -1, 0, -1, -1, -1, -1, -1, -1, -1, -1, -1, 0, -1, 0, -1, -1, -1, -1, -1, -1, -1, -1, 0, -1, -1, -1, -1, -1, -1, -1, -1, -1, 0, -1, -1, -1, -1, -1, -1, -1, -1, 0, -1, -1, 0, -1, -1, -1, -1, -1, -1, -1, 1, -1, 0, -1, -1, -1, -1, -1, -1, -1, -1, -1, -1, -1, -1, -1, -1, -1, 1, -1, -1, -1, -1, -1, -1, -1, -1, -1, 0, -1, 0, -1, -1, -1, -1, -1, -1, -1, 0, -1, 0, -1, -1, -1, 0, -1, -1, -1, -1, -1, -1, -1, -1, -1, -1, -1, -1, -1, -1, -1, -1, -1, -1, -1, -1, -1, -1, -1, -1, -1, -1, -1, -1, -1, -1, -1, -1, 0, -1, -1, -1, -1, -1, 1, -1, -1, -1, -1, -1, -1, -1, -1, -1, -1, -1, 0, -1, -1, -1, -1, -1, -1, 1, 0, -1, -1, -1, 0, -1, -1, -1, -1, -1, -1, -1, -1, -1, 0, -1, -1, -1, -1, -1, -1, -1, -1, -1, -1, -1, -1, -1, -1, 1, -1, 1, -1, -1, 0, -1, -1, -1, -1, -1, 0, 1, -1, 0, -1, -1, 0, -1, -1, -1, -1, -1, -1, -1, -1, -1, -1, -1, -1, -1, -1, 1, -1, -1, -1, -1, -1, -1, -1, -1, -1, 0, -1, -1, -1, -1, -1, -1, -1, -1, -1, -1, -1, -1, -1, -1, 0, -1, -1, 0, 0, -1, -1, -1, 1, -1, -1, -1, -1, -1, -1, -1, 0, -1, 1, -1, -1, -1, -1, -1, -1, -1, -1, -1, -1, -1, -1, -1, -1, -1, -1, 1, -1, -1, -1, -1, -1, -1, -1, -1, -1, -1, -1, -1, -1, -1, -1, -1, -1, -1, -1, -1, -1, -1, -1, -1, -1, -1, -1, -1, -1, -1, -1, -1, -1, -1, -1, -1, -1, -1, 0, -1, -1, -1, -1, -1, -1, -1, -1, -1, -1, -1, -1, -1, -1, -1, -1, -1, 0, -1, -1, -1, -1, 1, -1, -1, -1, -1, -1, -1, -1, 0, -1, -1, -1, -1, -1, -1, -1, -1, -1, 0, -1, -1, -1, -1, -1, -1, -1, -1, -1, -1, -1, -1, -1, -1, -1, -1, -1, -1, -1, -1, -1, -1, -1, 0, -1, -1, -1, 1, -1, -1, -1, -1, -1, -1, 0, -1, -1, -1, -1, -1, -1, -1, -1, -1, -1, -1, -1, -1, 0, 0, -1, -1, -1, -1, 0, -1, -1, -1, -1, -1, -1, -1, -1, -1, -1, -1, -1, -1, -1, -1, -1, -1, -1, -1, -1, -1, -1, -1, -1, 0, -1, -1, -1, -1, -1, -1, -1, -1, 1, -1, -1, -1, -1, 1, -1, 1, -1, -1, -1, -1, -1, 0, -1, 1, -1, -1, -1, -1, -1, -1, -1, -1, -1, 0, 0, 0, -1, -1, -1, 0, -1, -1, 0, -1, -1, -1, 1, -1, -1, -1, -1, -1, -1, -1, -1, -1, -1, -1, -1, 1, 0, -1, -1, 0, 1, -1, -1, 1, 1, -1, -1, 1, 0, 1, -1, -1, 0, -1, -1, -1, -1, -1, -1, -1, -1, -1, 0, 0, -1, -1, 1, -1, -1, 0, -1, 1, 0, 1, -1, -1, 0, 0, 1, 1, 0, 1, 1, -1, -1, 1, -1, -1, 0, 0, -1, -1, -1, -1, -1, -1, -1, -1, -1, -1, -1, -1, 1, -1, -1, 1, -1, -1, -1, -1, 0, -1, -1, -1, -1, -1, -1, -1, 1, -1, -1, -1, -1, -1, -1, -1, 1, 1, -1, -1, -1, 0, -1, -1, -1, -1, -1, -1, -1, -1, -1, -1, -1, -1, -1, -1, -1, -1, -1, -1, -1, -1, 0, 0, -1, -1, 0, -1, -1, 0, -1, 1, -1, -1, -1, -1, -1, -1, -1, 0, -1, -1, -1, -1, -1, -1, -1, -1, -1, -1, -1, -1, -1, 0, -1, -1, -1, -1, -1, 0, -1, -1, -1, -1, -1, -1, -1, 1, -1, -1, -1, -1, -1, 0, -1, -1, -1, -1, -1, 0, -1, -1, -1, 1, -1, -1, -1, -1, -1, -1, -1, -1, -1, -1, -1, -1, -1, -1, 1, -1, 0, -1, -1, 0, 0, -1, -1, 1, -1, -1, -1, -1, -1, 1, -1, -1, 0, -1, -1, -1, -1, -1, -1, -1, -1, 0, -1, -1, 1, -1, -1, -1, 0, -1, -1, -1, -1, -1, -1, -1, -1, -1, -1, -1, -1, -1, -1, -1, -1, 1, -1, -1, -1, 0, -1, 1, -1, -1, -1, -1, -1, 1, -1, 0, 1, -1, -1, 0, -1, -1, -1, -1, -1, -1, -1, -1, -1, -1, -1, -1, -1, -1, -1, -1, -1, -1, -1, -1, -1, 0, -1, 1, -1, 1, -1, -1, -1, -1, -1, -1, -1, -1, -1, -1, -1, -1, -1, -1, -1, -1, -1, -1, -1, 0, -1, 0, -1, -1, -1, 1, -1, -1, -1, -1, -1, -1, 0, -1, 0, 0, -1, -1, -1, -1, -1, -1, 0, -1, -1, 0, -1, -1, 0, 1, -1, -1, 0, -1, -1, -1, -1, 1, -1, 0, 0, -1, 0, 0, 0, 0, 1, 0, -1, -1, -1, -1, 0, -1, -1, 1, -1, 0, -1, -1, -1, -1, -1, 1, 0, -1, 0, -1, -1, -1, 0, 0, -1, -1, -1, 0, -1, -1, -1, -1, -1, -1, 1, -1, -1, 1, 0, 1, 0, -1, -1, -1, -1, -1, 0, -1, -1, 0, 0, 1, -1, 0, 0, -1, 1, -1, -1, -1, -1, -1, 1, -1, 1, 1, -1, 0, -1, -1, -1, 1, -1, 0, -1, -1, -1, -1, -1, -1, -1, 1, -1, 1, -1, -1, 0, -1, 0, -1, -1, -1, -1, -1, -1, -1, -1, 1, 0, -1, 0, -1, -1, -1, -1, -1, 0, 0, -1, -1, -1, 0, -1, -1, -1, -1, -1, 1, 1, -1, -1, -1, -1, -1, -1, -1, -1, -1, -1, -1, -1, -1, -1, 1, -1, -1, -1, -1, -1, -1, -1, 0, -1, -1, 1, -1, -1, -1, -1, -1, -1, -1, -1, -1, -1, -1, -1, -1, 0, -1, -1, -1, -1, 0, -1, 0, -1, 1, -1, 1, -1, -1, -1, -1, -1, -1, -1, 0, 1, 0, -1, -1, -1, -1, -1, -1, 1, 0, -1, 1, -1, -1, 1, 0, -1, -1, -1, -1, -1, -1, -1, -1, -1, -1, -1, -1, -1, -1, -1, -1, -1, -1, -1, -1, -1, -1, -1, -1, -1, -1, -1, -1, -1, -1, -1, 0, -1, 1, -1, 1, 1, -1, -1, -1, -1, 1, -1, -1, -1, -1, -1, -1, -1, -1, -1, -1, 1, -1, -1, -1, -1, -1, 0, -1, -1, 1, 0, 0, -1, -1, -1, -1, -1, 1, 1, 0, -1, -1, -1, 1, 0, 0, -1, -1, 0, 0, 1, 0, 0, 1, -1, -1, -1, -1, -1, -1, -1, -1, 0, -1, 1, 1, -1, -1, -1, -1, -1, -1, 0, -1, -1, -1, -1, -1, 0, -1, -1, 0, -1, -1, 0, 1, -1, -1, -1, 0, -1, 0, 0, 1, 1, 0, -1, -1, -1, -1, -1, 0, -1, 0, -1, -1, -1, -1, -1, 0, -1, -1, -1, 0, 0, -1, -1, -1, -1, 0, -1, -1, 0, -1, -1, -1, -1, 0, -1, 0, -1, -1, 1, 0, -1, 0, 0, -1, -1, 0, 1, 0, 1, 0, -1, 0, -1, 1, -1, -1, 1, -1, 0, 0, -1, -1, -1, 1, -1, -1, 0, 0, 1, -1, -1, 1, -1, -1, -1, -1, 1, -1, -1, 0, -1, -1, -1, -1, -1, -1, 1, -1, -1, -1, -1, -1, -1, 1, -1, -1, -1, 1, -1, -1, -1, -1, 0, -1, -1, 0, 0, -1, -1, -1, -1, 0, 0, -1, -1, -1, 0, -1, -1, -1, -1, -1, -1, -1, -1, 0, -1, -1, -1, -1, 0, 0, -1, -1, -1, -1, -1, -1, -1, 1, -1, 1, -1, 1, -1, 1, 0, -1, 0, 0, -1, -1, 0, -1, -1, -1, 0, -1, -1, 0, -1, -1, -1, -1, 0, -1, -1, -1, -1, -1, 1, -1, -1, 0, 1, 1, -1, -1, -1, 1, -1, -1, -1, -1, -1, -1, -1, -1, 1, 0, 1, -1, -1, -1, -1, 1, 1, -1, -1, -1, 0, -1, -1, -1, -1, -1, -1, -1, 0, -1, -1, -1, -1, -1, -1, -1, -1, -1, -1, -1, 0, -1, -1, -1, -1, -1, -1, -1, -1, -1, -1, -1, -1, 1, -1, -1, -1, -1, -1, -1, -1, -1, 1, -1, -1, -1, 0, -1, -1, -1, 1, -1, -1, 0, -1, 1, -1, -1, -1, -1, 1, 1, -1, -1, 1, -1, 1, 0, -1, -1, -1, 1, -1, -1, -1, -1, -1, -1, -1, -1, -1, -1, -1, -1, -1, -1, -1, -1, -1, -1, -1, -1, -1, -1, -1, -1, -1, -1, 1, -1, -1, -1, -1, -1, -1, -1, -1, -1, 1, -1, -1, 1, -1, -1, 0, -1, -1, -1, 1, -1, -1, -1, -1, -1, -1, -1, -1, -1, -1, -1, -1, -1, -1, -1, -1, -1, -1, -1, -1, -1, 1, -1, -1, 1, -1, 1, 1, 0, -1, -1, -1, -1, -1, 0, -1, -1, -1, -1, -1, -1, -1, -1, -1, -1, -1, 0, 0, -1, -1, -1, -1, -1, 1, -1, -1, -1, 1, -1, 0, -1, 1, -1, -1, -1, -1, -1, -1, 1, 0, 0, -1, 0, -1, -1, -1, 1, -1, -1, -1, -1, -1, -1, 0, -1, 0, -1, -1, -1, -1, -1, -1, 0, 0, 0, -1, 1, 0, -1, -1, -1, -1, 0, -1, -1, -1, -1, 1, 1, 1, -1, -1, -1, -1, 1, -1, 1, -1, -1, -1, -1, -1, -1, -1, 1, -1, 0, -1, -1, -1, -1, -1, -1, -1, -1, -1, -1, -1, -1, 0, -1, -1, -1, -1, -1, -1, -1, -1, 0, -1, -1, -1, -1, -1, -1, -1, -1, -1, 1, -1, -1, 1, -1, -1, 1, -1, 1, 1, 1, -1, -1, 0, -1, 1, 1, -1, -1, -1, -1, 1, -1, -1, -1, 1, 0, -1, -1, -1, -1, -1, -1, 1, -1, -1, -1, -1, -1, -1, -1, -1, -1, -1, -1, -1, -1, -1, 0, 1, -1, -1, 0, -1, -1, -1, 0, 0, -1, -1, -1, -1, -1, -1, -1, -1, -1, -1, 1, 1, -1, 1, -1, 0, 1, -1, -1, -1, 1, -1, -1, 1, -1, -1, -1, -1, -1, -1, -1, -1, 1, -1, -1, -1, -1, -1, 1, 0, -1, 0, -1, 1, -1, -1, -1, -1, -1, 1, -1, -1, 1, 1, -1, -1, -1, -1, 1, -1, -1, 1, -1, -1, -1, 0, -1, 1, -1, -1, -1, -1, -1, -1, 1, -1, -1, -1, -1, -1, -1, -1, 1, 1, -1, -1, 1, 1, -1, -1, -1, -1, -1, -1, -1, -1, 1, -1, 1, -1, -1, -1, -1, 0, -1, 1, -1, 0, -1, -1, -1, -1, -1, -1, -1, -1, -1, -1, 0, -1, -1, -1, 0, 0, 1, -1, -1, 0, -1, -1, -1, 1, -1, 1, -1, -1, -1, 0, 1, -1, -1, -1, 1, -1, 0, -1, 1, -1, -1, -1, 0, -1, 1, -1, -1, -1, -1, 0, -1, -1, -1, -1, 0, 0, -1, 1, -1, 0, -1, -1, 0, -1, -1, -1, -1, -1, -1, -1, -1, -1, 0, -1, -1, -1, -1, -1, 1, -1, -1, -1, -1, -1, 1, -1, -1, -1, -1, -1, -1, -1, -1, 0, -1, 1, 1, -1, -1, -1, -1, 1, -1, -1, -1, 0, -1, -1, -1, -1, -1, -1, -1, -1, -1, -1, -1, 0, -1, 0, -1, -1, -1, -1, -1, 1, -1, -1, 0, -1, 0, -1, -1, 0, 1, -1, -1, 0, 0, -1, -1, 0, 1, -1, 0, -1, -1, -1, 1, 0, 0, 1, 1, -1, 1, 0, -1, -1, 1, -1, -1, -1, 0, 1, -1, -1, -1, 1, -1, 1, 1, -1, -1, 0, -1, 0, -1, 1, 1, -1, 1, -1, 0, -1, -1, -1, -1, -1, -1, 0, -1, 1, 0, 0, -1, -1, -1, -1, 0, -1, 1, 0, -1, -1, -1, -1, -1, -1, 0, -1, -1, -1, 1, 0, -1, 1, 1, -1, -1, -1, -1, -1, -1, -1, -1, -1, 0, 0, 0, 0, 0, 1, -1, -1, 0, 1, 1, 1, -1, -1, 0, 1, 1, 0, 1, -1, -1, -1, 0, -1, 0, 1, -1, -1, -1, 1, -1, -1, 0, -1, -1, 0, -1, 1, -1, -1, -1, -1, -1, -1, -1, -1, 1, -1, -1, 1, -1, -1, -1, -1, 0, -1, -1, -1, -1, -1, -1, -1, -1, 0, -1, 0, -1, -1, 0, 1, -1, -1, 0, 0, -1, -1, 0, 1, -1, 0, -1, -1, -1, 0, 1, 0, 1, 1, -1, 1, 0, -1, -1, 0, -1, -1, -1, 0, 1, -1, -1, 0, 1, -1, 1, 1, -1, -1, 0, -1, 0, -1, 1, 0, -1, 1, -1, 0, -1, -1, -1, -1, -1, -1, 0, -1, 1, 0, -1, -1, -1, -1, -1, 0, -1, -1, 1, -1, -1, -1, -1, -1, -1, 1, -1, -1, -1, 1, 0, -1, 1, 1, -1, -1, -1, -1, -1, -1, -1, -1, -1, -1, 0, 0, 0, 0, -1, -1, -1, 1, 1, 1, 1, -1, -1, 0, 1, 0, 1, 1, -1, -1, -1, 0, -1, 1, 1, -1, -1, -1, -1, -1, -1, -1, -1, -1, 0, -1, -1, 1, -1, -1, -1, 0, 1, 1, -1, -1, -1, 1, 1, -1, 1, 0, -1, 1, 0, -1, 0, 0, 1, 0, 0, 0, -1, -1, 0, -1, 0, -1, -1, -1, 0, 1, 1, 0, 0, 0, -1, 0, 0, 0, 0, -1, -1, -1, -1, 0, 1, 0, 1, -1, -1, 0, 0, -1, -1, -1, 1, -1, -1, -1, -1, -1, -1, -1, -1, 0, -1, -1, -1, -1, 1, 0, 0, -1, -1, -1, -1, 0, -1, -1, -1, 0, 0, -1, -1, 1, 0, -1, 1, -1, -1, -1, -1, 0, 0, -1, -1, 1, -1, 1, -1, 0, 0, -1, 1, 0, -1, -1, -1, 0, -1, -1, -1, -1, 1, -1, -1, 1, -1, -1, 0, -1, 0, 0, 1, -1, 1, -1, 0, -1, 0, 0, -1, -1, 0, -1, -1, -1, 1, -1, 0, 1, -1, -1, -1, 0, -1, -1, 1, 0, 0, -1, -1, 1, -1, -1, -1, 1, 0, -1, -1, 0, 1, -1, 0, -1, 1, -1, 1, -1, 0, 1, 0, 0, -1, 0, -1, -1, 0, 1, 0, 0, -1, 1, -1, 0, -1, -1, -1, -1, -1, 1, -1, -1, -1, -1, -1, 1, 1, 1, 0, 0, 1, -1, 0, -1, 0, 0, -1, -1, -1, -1, 0, 1, -1, -1, -1, 1, -1, 0, 0, -1, -1, -1, -1, -1, -1, 0, 0, 0, 0, -1, -1, -1, 1, 0, -1, -1, 0, 1, -1, -1, 0, -1, 0, -1, -1, -1, -1, -1, -1, -1, -1, 0, -1, 1, -1, -1, 0, -1, 0, -1, -1, -1, 0, -1, 0, -1, -1, -1, -1, -1, -1, 0, 0, 0, -1, -1, -1, -1, -1, 0, -1, -1, -1, -1, -1, 0, -1, -1, -1, 0, -1, -1, 1, 0, -1, 0, -1, -1, 0, -1, 0, -1, -1, -1, -1, -1, -1, -1, -1, -1, 1, -1, 1, -1, -1, -1, -1, -1, -1, -1, -1, -1, -1, -1, -1, -1, -1, 0, 0, -1, -1, 0, -1, -1, -1, -1, 0, -1, -1, -1, -1, -1, 0, -1, -1, -1, -1, -1, -1, -1, -1, 0, 0, -1, -1, 1, 1, -1, -1, -1, -1, -1, -1, 1, -1, -1, -1, -1, -1, -1, -1, -1, 0, -1, 1, 1, 0, 1, -1, -1, -1, 1, -1, 1, -1, -1, -1, -1, -1, 1, -1, -1, -1, 1, -1, 0, -1, -1, -1, 0, 0, 1, 1, -1, 1, -1, -1, 0, -1, -1, -1, -1, 1, 0, 0, 0, -1, -1, -1, 0, -1, -1, -1, -1, 1, -1, -1, -1, 0, -1, 1, -1, -1, -1, 1, -1, 1, 0, 0, -1, -1, 1, -1, 0, 0, 1, -1, -1, -1, -1, -1, -1, 1, -1, -1, 0, 1, -1, 0, -1, -1, 1, 0, -1, 0, 0, -1, 0, -1, -1, -1, -1, 0, 0, -1, 0, 0, -1, 0, -1, 1, -1, -1, -1, -1, -1, -1, -1, -1, -1, -1, -1, 1, 0, -1, -1, -1, 1, -1, -1, -1, -1, -1, -1, -1, -1, -1, -1, -1, -1, -1, -1, 1, 1, -1, -1, -1, -1, 0, 1, -1, 0, -1, -1, -1, -1, -1, -1, 0, -1, -1, -1, 0, 1, -1, 1, 0, -1, -1, -1, -1, -1, 0, -1, 1, -1, -1, -1, -1, -1, 0, -1, 1, 1, -1, -1, -1, -1, 0, -1, -1, 1, 0, -1, -1, -1, -1, -1, -1, 1, 1, -1, -1, -1, 1, 0, 0, -1, 0, -1, 1, -1, -1, 0, -1, -1, -1, 1, -1, -1, 0, 0, -1, 1, -1, -1, -1, -1, -1, -1, -1, 1, -1, -1, -1, -1, -1, -1, -1, 1, -1, 0, -1, -1, 1, -1, -1, 1, -1, -1, 0, -1, -1, -1, -1, -1, -1, -1, -1, -1, -1, -1, -1, 0, 1, -1, -1, -1, -1, -1, -1, -1, 1, -1, -1, -1, -1, -1, -1, -1, -1, -1, -1, -1, -1, 0, -1, -1, 0, -1, -1, -1, -1, 0, -1, -1, -1, -1, 0, -1, -1, 1, -1, -1, 0, 0, 0, -1, -1, -1, 0, -1, 1, 1, 0, -1, -1, -1, -1, 0, -1, -1, -1, -1, -1, 0, -1, -1, -1, -1, 0, -1, 0, -1, 0, -1, -1, -1, 0, -1, -1, -1, -1, -1, -1, -1, -1, -1, -1, -1, 0, 1, -1, -1, 0, -1, 0, -1, -1, -1, -1, 1, -1, 0, -1, -1, 0, -1, -1, -1, -1, -1, 0, -1, 0, 1, -1, -1, -1, -1, -1, -1, -1, 1, -1, -1, 0, -1, 0, -1, -1, 1, -1, 1, -1, -1, 0, -1, -1, 1, -1, -1, -1, -1, -1, -1, -1, 0, -1, 1, -1, -1, -1, -1, 0, -1, -1, -1, -1, -1, -1, -1, -1, -1, 1, -1, -1, -1, -1, -1, 0, 0, -1, -1, 1, 1, -1, -1, -1, -1, -1, -1, 0, 1, -1, -1, 0, -1, -1, 1, -1, 0, 1, -1, -1, -1, -1, -1, -1, -1, -1, 0, 0, -1, -1, -1, -1, -1, 1, -1, -1, 0, 1, 0, -1, -1, -1, -1, 1, -1, -1, 1, -1, 0, -1, -1, 1, -1, -1, 1, 0, 0, 1, -1, -1, 1, -1, -1, 1, 0, 0, -1, 1, 0, 1, -1, -1, 0, -1, 0, -1, -1, -1, -1, 1, -1, -1, -1, -1, -1, -1, -1, -1, -1, 1, -1, -1, -1, -1, -1, -1, 1, -1, -1, 1, 0, 0, 1, -1, -1, -1, -1, -1, -1, 1, -1, 1, 1, 1, -1, -1, -1, -1, 1, -1, -1, -1, 1, -1, 0, -1, 0, 0, 0, 1, -1, 0, -1, -1, -1, -1, 0, -1, 1, -1, -1, -1, 1, -1, -1, -1, -1, -1, -1, 0, 1, -1, -1, 0, -1, 1, -1, -1, -1, -1, 0, 0, 1, -1, -1, -1, 1, 0, -1, -1, -1, -1, 0, 0, -1, -1, -1, -1, -1, -1, -1, -1, 1, -1, -1, -1, -1, -1, 1, 1, -1, -1, -1, -1, -1, 0, -1, -1, -1, -1, -1, -1, -1, 1, -1, 0, -1, 0, -1, 0, -1, -1, -1, 0, 1, -1, -1, 0, 0, -1, -1, 0, -1, -1, -1, -1, -1, -1, -1, 0, -1, -1, 1, -1, -1, -1, 1, -1, -1, -1, -1, -1, 0, -1, -1, -1, -1, -1, 1, -1, 1, 0, -1, -1, -1, -1, -1, -1, -1, -1, -1, -1, -1, -1, -1, -1, -1, -1, -1, -1, -1, -1, -1, 0, -1, 0, 0, 0, -1, -1, -1, -1, -1, -1, 1, -1, -1, -1, -1, -1, -1, -1, -1, -1, -1, -1, -1, -1, -1, 0, -1, -1, -1, -1, 0, -1, -1, -1, -1, 1, 0, -1, 1, 0, -1, -1, -1, 1, -1, -1, -1, -1, 1, -1, -1, 0, 0, 1, -1, -1, -1, -1, -1, -1, 0, 0, -1, -1, -1, -1, -1, -1, -1, 0, -1, 0, 1, -1, -1, -1, -1, -1, -1, -1, -1, 0, 0, -1, -1, -1, -1, -1, 0, -1, -1, -1, -1, -1, -1, -1, 0, -1, -1, 0, 1, 0, -1, -1, -1, 0, -1, -1, -1, -1, -1, -1, -1, -1, 1, 0, -1, 1, 1, 0, -1, -1, 1, -1, -1, -1, -1, 0, 0, 0, -1, -1, -1, -1, -1, -1, -1, -1, 0, -1, -1, -1, 1, -1, -1, 0, -1, -1, -1, -1, -1, 0, 1, -1, -1, 1, -1, 0, -1, -1, -1, -1, -1, -1, 1, -1, -1, -1, -1, -1, 0, -1, 1, -1, -1, -1, 1, -1, 0, -1, -1, -1, -1, -1, -1, -1, -1, -1, -1, -1, -1, -1, 0, 1, -1, -1, -1, 0, -1, -1, -1, -1, 1, -1, -1, -1, -1, -1, -1, -1, -1, -1, -1, -1, -1, -1, -1, -1, 1, -1, -1, -1, -1, -1, 1, 1, -1, -1, 0, 0, -1, -1, 1, 0, 1, -1, -1, -1, -1, -1, -1, -1, -1, -1, 0, -1, -1, -1, -1, -1, -1, -1, -1, -1, 0, 1, -1, -1, -1, -1, -1, -1, -1, 0, 0, -1, -1, -1, -1, -1, -1, -1, -1, -1, -1, -1, -1, -1, -1, -1, -1, -1, 1, 1, -1, -1, 1, -1, -1, -1, 0, -1, -1, -1, -1, 0, 0, -1, -1, -1, -1, -1, 1, -1, -1, 0, 1, -1, -1, 0, 0, -1, -1, 0, -1, -1, -1, -1, -1, -1, -1, -1, -1, 1, -1, -1, -1, -1, 1, 1, -1, -1, -1, -1, -1, -1, -1, -1, -1, -1, 0, -1, -1, 0, -1, 0, 0, -1, 0, -1, -1, -1, -1, -1, -1, 0, 0, -1, -1, -1, -1, -1, -1, -1, -1, -1, -1, -1, -1, -1, 1, -1, -1, -1, -1, 0, 0, -1, -1, -1, -1, -1, -1, -1, -1, -1, -1, -1, -1, 0, -1, -1, -1, -1, -1, 0, -1, -1, -1, -1, -1, 0, -1, 1, -1, -1, -1, -1, -1, -1, -1, -1, 0, -1, -1, -1, -1, -1, -1, -1, -1, -1, -1, -1, -1, -1, -1, -1, -1, -1, -1, -1, -1, 0, -1, -1, -1, -1, -1, -1, 0, -1, -1, -1, -1, -1, -1, -1, 1, 0, -1, 0, -1, -1, 0, -1, 1, -1, 1, -1, 1, -1, -1, 1, -1, -1, 1, -1, 0, -1, -1, 1, -1, -1, 0, -1, -1, -1, -1, -1, 1, -1, -1, -1, -1, 1, -1, 1, -1, -1, -1, 0, -1, -1, -1, -1, 1, 0, -1, 0, 0, 1, -1, -1, -1, -1, -1, -1, -1, 0, -1, -1, -1, -1, -1, 1, 1, -1, -1, -1, 1, 0, -1, 0, -1, -1, -1, 0, 0, -1, 1, 0, 0, 1, 0, 1, -1, -1, 0, -1, -1, -1, -1, -1, -1, 0, -1, -1, -1, -1, -1, -1, 0, -1, -1, 0, -1, 1, -1, -1, -1, -1, 0, 0, -1, -1, -1, 0, -1, -1, -1, -1, -1, -1, -1, -1, -1, 0, -1, 0, -1, -1, -1, -1, -1, 1, 1, 1, -1, -1, -1, -1, -1, -1, -1, -1, -1, -1, -1, -1, -1, -1, 0, -1, -1, -1, -1, -1, 0, -1, 1, -1, 1, -1, 1, -1, -1, -1, -1, -1, 0, -1, -1, -1, -1, -1, -1, -1, -1, -1, -1, -1, -1, -1, -1, -1, -1, -1, -1, -1, -1, -1, -1, -1, -1, -1, -1, -1, -1, -1, -1, -1, -1, -1, -1, -1, -1, -1, 0, -1, -1, -1, -1, -1, -1, 1, -1, -1, -1, -1, -1, -1, 1, -1, 0, -1, 0, -1, -1, -1, -1, 0, -1, -1, -1, -1, 0, 0, -1, -1, -1, -1, 1, 1, -1, 1, -1, -1, 0, -1, 0, 0, -1, 1, -1, 0, -1, 1, 0, -1, -1, 0, 0, -1, -1, -1, -1, -1, 0, -1, -1, -1, -1, 1, -1, -1, -1, 0, -1, -1, 1, 1, -1, -1, -1, -1, -1, 0, -1, -1, 0, 0, -1, -1, -1, -1, -1, 0, -1, -1, 0, 0, 1, -1, -1, 1, -1, -1, -1, -1, -1, -1, 0, -1, -1, 0, -1, -1, -1, -1, -1, -1, -1, -1, -1, -1, -1, 0, -1, -1, -1, -1, 0, -1, -1, -1, -1, -1, -1, -1, -1, -1, 1, -1, -1, -1, 0, -1, -1, -1, 1, -1, -1, 1, -1, 0, 1, -1, 1, 0, -1, -1, 0, -1, -1, 0, -1, 1, -1, 0, -1, 0, -1, 0, -1, 0, -1, -1, 0, 0, -1, -1, -1, -1, 1, -1, -1, -1, -1, -1, -1, 1, -1, 0, -1, -1, -1, -1, -1, -1, -1, 0, -1, -1, -1, -1, -1, 0, -1, -1, -1, -1, -1, 1, 1, -1, -1, -1, -1, -1, -1, -1, -1, -1, -1, -1, -1, -1, -1, -1, -1, -1, -1, -1, -1, -1, -1, -1, -1, -1, -1, -1, -1, -1, 1, -1, -1, 0, -1, -1, -1, -1, -1, -1, 0, -1, -1, 0, -1, -1, -1, 0, -1, 0, -1, -1, -1, -1, -1, -1, 0, -1, -1, 0, 1, -1, 0, 0, 1, 0, -1, -1, -1, -1, -1, -1, -1, -1, -1, -1, -1, -1, -1, -1, -1, -1, -1, -1, -1, -1, -1, -1, -1, -1, -1, -1, -1, -1, -1, -1, 0, -1, -1, -1, -1, -1, 1, 0, -1, -1, 0, 1, -1, -1, -1, 1, -1, -1, -1, -1, 0, -1, -1, -1, 0, -1, -1, -1, -1, 0, -1, 1, -1, -1, -1, -1, -1, -1, 0, -1, -1, -1, -1, -1, -1, 0, -1, 0, 1, -1, 0, 1, -1, -1, -1, 1, -1, -1, -1, 0, -1, -1, 1, -1, 0, -1, -1, 1, -1, -1, -1, -1, -1, -1, -1, -1, -1, -1, 0, -1, -1, -1, 1, -1, -1, -1, -1, -1, 1, -1, -1, -1, 1, -1, -1, 1, -1, -1, -1, -1, -1, -1, -1, -1, -1, -1, 1, -1, -1, -1, -1, -1, -1, -1, -1, -1, -1, -1, 0, -1, -1, -1, -1, -1, -1, -1, -1, -1, -1, -1, 1, -1, -1, 1, -1, -1, -1, -1, -1, -1, -1, -1, -1, -1, 1, -1, -1, -1, -1, 0, 0, -1, 1, 1, -1, -1, -1, -1, -1, -1, -1, 1, -1, -1, -1, -1, -1, -1, -1, -1, -1, -1, -1, 0, -1, -1, -1, -1, -1, -1, -1, -1, -1, -1, 0, 1, -1, -1, -1, -1, -1, -1, -1, 1, -1, -1, -1, -1, 0, -1, 1, -1, -1, -1, -1, -1, -1, -1, 0, 0, -1, 0, -1, 0, -1, -1, -1, -1, -1, 0, -1, -1, -1, -1, 0, 0, -1, -1, -1, -1, -1, -1, -1, -1, 0, -1, -1, -1, 1, 0, -1, -1, -1, -1, -1, -1, -1, -1, 1, -1, 0, 1, -1, -1, -1, -1, -1, -1, -1, -1, 1, -1, -1, -1, -1, -1, -1, -1, -1, -1, -1, 0, 0, -1, -1, 0, -1, -1, -1, -1, -1, 1, -1, -1, -1, -1, -1, -1, -1, -1, -1, 0, -1, -1, -1, -1, -1, -1, -1, 1, 1, -1, -1, -1, -1, -1, -1, -1, -1, -1, -1, 1, -1, -1, -1, 0, 0, 1, 1, -1, -1, -1, 0, -1, -1, -1, 1, -1, -1, -1, -1, -1, -1, -1, -1, 0, -1, -1, -1, 0, -1, -1, -1, -1, -1, -1, -1, -1, -1, -1, -1, -1, -1, -1, 0, -1, -1, -1, 0, -1, 1, -1, -1, -1, -1, -1, -1, -1, 0, -1, 0, -1, 0, -1, -1, -1, -1, 0, -1, -1, -1, 0, -1, -1, -1, -1, -1, 1, -1, 1, -1, -1, -1, 1, -1, 1, -1, -1, 1, -1, 1, -1, 0, -1, -1, 1, -1, 0, -1, 0], \"legendgroup\": \"\", \"name\": \"\", \"showlegend\": true, \"type\": \"pie\"}],\n",
              "                        {\"legend\": {\"tracegroupgap\": 0}, \"margin\": {\"t\": 60}, \"template\": {\"data\": {\"bar\": [{\"error_x\": {\"color\": \"#2a3f5f\"}, \"error_y\": {\"color\": \"#2a3f5f\"}, \"marker\": {\"line\": {\"color\": \"#E5ECF6\", \"width\": 0.5}}, \"type\": \"bar\"}], \"barpolar\": [{\"marker\": {\"line\": {\"color\": \"#E5ECF6\", \"width\": 0.5}}, \"type\": \"barpolar\"}], \"carpet\": [{\"aaxis\": {\"endlinecolor\": \"#2a3f5f\", \"gridcolor\": \"white\", \"linecolor\": \"white\", \"minorgridcolor\": \"white\", \"startlinecolor\": \"#2a3f5f\"}, \"baxis\": {\"endlinecolor\": \"#2a3f5f\", \"gridcolor\": \"white\", \"linecolor\": \"white\", \"minorgridcolor\": \"white\", \"startlinecolor\": \"#2a3f5f\"}, \"type\": \"carpet\"}], \"choropleth\": [{\"colorbar\": {\"outlinewidth\": 0, \"ticks\": \"\"}, \"type\": \"choropleth\"}], \"contour\": [{\"colorbar\": {\"outlinewidth\": 0, \"ticks\": \"\"}, \"colorscale\": [[0.0, \"#0d0887\"], [0.1111111111111111, \"#46039f\"], [0.2222222222222222, \"#7201a8\"], [0.3333333333333333, \"#9c179e\"], [0.4444444444444444, \"#bd3786\"], [0.5555555555555556, \"#d8576b\"], [0.6666666666666666, \"#ed7953\"], [0.7777777777777778, \"#fb9f3a\"], [0.8888888888888888, \"#fdca26\"], [1.0, \"#f0f921\"]], \"type\": \"contour\"}], \"contourcarpet\": [{\"colorbar\": {\"outlinewidth\": 0, \"ticks\": \"\"}, \"type\": \"contourcarpet\"}], \"heatmap\": [{\"colorbar\": {\"outlinewidth\": 0, \"ticks\": \"\"}, \"colorscale\": [[0.0, \"#0d0887\"], [0.1111111111111111, \"#46039f\"], [0.2222222222222222, \"#7201a8\"], [0.3333333333333333, \"#9c179e\"], [0.4444444444444444, \"#bd3786\"], [0.5555555555555556, \"#d8576b\"], [0.6666666666666666, \"#ed7953\"], [0.7777777777777778, \"#fb9f3a\"], [0.8888888888888888, \"#fdca26\"], [1.0, \"#f0f921\"]], \"type\": \"heatmap\"}], \"heatmapgl\": [{\"colorbar\": {\"outlinewidth\": 0, \"ticks\": \"\"}, \"colorscale\": [[0.0, \"#0d0887\"], [0.1111111111111111, \"#46039f\"], [0.2222222222222222, \"#7201a8\"], [0.3333333333333333, \"#9c179e\"], [0.4444444444444444, \"#bd3786\"], [0.5555555555555556, \"#d8576b\"], [0.6666666666666666, \"#ed7953\"], [0.7777777777777778, \"#fb9f3a\"], [0.8888888888888888, \"#fdca26\"], [1.0, \"#f0f921\"]], \"type\": \"heatmapgl\"}], \"histogram\": [{\"marker\": {\"colorbar\": {\"outlinewidth\": 0, \"ticks\": \"\"}}, \"type\": \"histogram\"}], \"histogram2d\": [{\"colorbar\": {\"outlinewidth\": 0, \"ticks\": \"\"}, \"colorscale\": [[0.0, \"#0d0887\"], [0.1111111111111111, \"#46039f\"], [0.2222222222222222, \"#7201a8\"], [0.3333333333333333, \"#9c179e\"], [0.4444444444444444, \"#bd3786\"], [0.5555555555555556, \"#d8576b\"], [0.6666666666666666, \"#ed7953\"], [0.7777777777777778, \"#fb9f3a\"], [0.8888888888888888, \"#fdca26\"], [1.0, \"#f0f921\"]], \"type\": \"histogram2d\"}], \"histogram2dcontour\": [{\"colorbar\": {\"outlinewidth\": 0, \"ticks\": \"\"}, \"colorscale\": [[0.0, \"#0d0887\"], [0.1111111111111111, \"#46039f\"], [0.2222222222222222, \"#7201a8\"], [0.3333333333333333, \"#9c179e\"], [0.4444444444444444, \"#bd3786\"], [0.5555555555555556, \"#d8576b\"], [0.6666666666666666, \"#ed7953\"], [0.7777777777777778, \"#fb9f3a\"], [0.8888888888888888, \"#fdca26\"], [1.0, \"#f0f921\"]], \"type\": \"histogram2dcontour\"}], \"mesh3d\": [{\"colorbar\": {\"outlinewidth\": 0, \"ticks\": \"\"}, \"type\": \"mesh3d\"}], \"parcoords\": [{\"line\": {\"colorbar\": {\"outlinewidth\": 0, \"ticks\": \"\"}}, \"type\": \"parcoords\"}], \"pie\": [{\"automargin\": true, \"type\": \"pie\"}], \"scatter\": [{\"marker\": {\"colorbar\": {\"outlinewidth\": 0, \"ticks\": \"\"}}, \"type\": \"scatter\"}], \"scatter3d\": [{\"line\": {\"colorbar\": {\"outlinewidth\": 0, \"ticks\": \"\"}}, \"marker\": {\"colorbar\": {\"outlinewidth\": 0, \"ticks\": \"\"}}, \"type\": \"scatter3d\"}], \"scattercarpet\": [{\"marker\": {\"colorbar\": {\"outlinewidth\": 0, \"ticks\": \"\"}}, \"type\": \"scattercarpet\"}], \"scattergeo\": [{\"marker\": {\"colorbar\": {\"outlinewidth\": 0, \"ticks\": \"\"}}, \"type\": \"scattergeo\"}], \"scattergl\": [{\"marker\": {\"colorbar\": {\"outlinewidth\": 0, \"ticks\": \"\"}}, \"type\": \"scattergl\"}], \"scattermapbox\": [{\"marker\": {\"colorbar\": {\"outlinewidth\": 0, \"ticks\": \"\"}}, \"type\": \"scattermapbox\"}], \"scatterpolar\": [{\"marker\": {\"colorbar\": {\"outlinewidth\": 0, \"ticks\": \"\"}}, \"type\": \"scatterpolar\"}], \"scatterpolargl\": [{\"marker\": {\"colorbar\": {\"outlinewidth\": 0, \"ticks\": \"\"}}, \"type\": \"scatterpolargl\"}], \"scatterternary\": [{\"marker\": {\"colorbar\": {\"outlinewidth\": 0, \"ticks\": \"\"}}, \"type\": \"scatterternary\"}], \"surface\": [{\"colorbar\": {\"outlinewidth\": 0, \"ticks\": \"\"}, \"colorscale\": [[0.0, \"#0d0887\"], [0.1111111111111111, \"#46039f\"], [0.2222222222222222, \"#7201a8\"], [0.3333333333333333, \"#9c179e\"], [0.4444444444444444, \"#bd3786\"], [0.5555555555555556, \"#d8576b\"], [0.6666666666666666, \"#ed7953\"], [0.7777777777777778, \"#fb9f3a\"], [0.8888888888888888, \"#fdca26\"], [1.0, \"#f0f921\"]], \"type\": \"surface\"}], \"table\": [{\"cells\": {\"fill\": {\"color\": \"#EBF0F8\"}, \"line\": {\"color\": \"white\"}}, \"header\": {\"fill\": {\"color\": \"#C8D4E3\"}, \"line\": {\"color\": \"white\"}}, \"type\": \"table\"}]}, \"layout\": {\"annotationdefaults\": {\"arrowcolor\": \"#2a3f5f\", \"arrowhead\": 0, \"arrowwidth\": 1}, \"coloraxis\": {\"colorbar\": {\"outlinewidth\": 0, \"ticks\": \"\"}}, \"colorscale\": {\"diverging\": [[0, \"#8e0152\"], [0.1, \"#c51b7d\"], [0.2, \"#de77ae\"], [0.3, \"#f1b6da\"], [0.4, \"#fde0ef\"], [0.5, \"#f7f7f7\"], [0.6, \"#e6f5d0\"], [0.7, \"#b8e186\"], [0.8, \"#7fbc41\"], [0.9, \"#4d9221\"], [1, \"#276419\"]], \"sequential\": [[0.0, \"#0d0887\"], [0.1111111111111111, \"#46039f\"], [0.2222222222222222, \"#7201a8\"], [0.3333333333333333, \"#9c179e\"], [0.4444444444444444, \"#bd3786\"], [0.5555555555555556, \"#d8576b\"], [0.6666666666666666, \"#ed7953\"], [0.7777777777777778, \"#fb9f3a\"], [0.8888888888888888, \"#fdca26\"], [1.0, \"#f0f921\"]], \"sequentialminus\": [[0.0, \"#0d0887\"], [0.1111111111111111, \"#46039f\"], [0.2222222222222222, \"#7201a8\"], [0.3333333333333333, \"#9c179e\"], [0.4444444444444444, \"#bd3786\"], [0.5555555555555556, \"#d8576b\"], [0.6666666666666666, \"#ed7953\"], [0.7777777777777778, \"#fb9f3a\"], [0.8888888888888888, \"#fdca26\"], [1.0, \"#f0f921\"]]}, \"colorway\": [\"#636efa\", \"#EF553B\", \"#00cc96\", \"#ab63fa\", \"#FFA15A\", \"#19d3f3\", \"#FF6692\", \"#B6E880\", \"#FF97FF\", \"#FECB52\"], \"font\": {\"color\": \"#2a3f5f\"}, \"geo\": {\"bgcolor\": \"white\", \"lakecolor\": \"white\", \"landcolor\": \"#E5ECF6\", \"showlakes\": true, \"showland\": true, \"subunitcolor\": \"white\"}, \"hoverlabel\": {\"align\": \"left\"}, \"hovermode\": \"closest\", \"mapbox\": {\"style\": \"light\"}, \"paper_bgcolor\": \"white\", \"plot_bgcolor\": \"#E5ECF6\", \"polar\": {\"angularaxis\": {\"gridcolor\": \"white\", \"linecolor\": \"white\", \"ticks\": \"\"}, \"bgcolor\": \"#E5ECF6\", \"radialaxis\": {\"gridcolor\": \"white\", \"linecolor\": \"white\", \"ticks\": \"\"}}, \"scene\": {\"xaxis\": {\"backgroundcolor\": \"#E5ECF6\", \"gridcolor\": \"white\", \"gridwidth\": 2, \"linecolor\": \"white\", \"showbackground\": true, \"ticks\": \"\", \"zerolinecolor\": \"white\"}, \"yaxis\": {\"backgroundcolor\": \"#E5ECF6\", \"gridcolor\": \"white\", \"gridwidth\": 2, \"linecolor\": \"white\", \"showbackground\": true, \"ticks\": \"\", \"zerolinecolor\": \"white\"}, \"zaxis\": {\"backgroundcolor\": \"#E5ECF6\", \"gridcolor\": \"white\", \"gridwidth\": 2, \"linecolor\": \"white\", \"showbackground\": true, \"ticks\": \"\", \"zerolinecolor\": \"white\"}}, \"shapedefaults\": {\"line\": {\"color\": \"#2a3f5f\"}}, \"ternary\": {\"aaxis\": {\"gridcolor\": \"white\", \"linecolor\": \"white\", \"ticks\": \"\"}, \"baxis\": {\"gridcolor\": \"white\", \"linecolor\": \"white\", \"ticks\": \"\"}, \"bgcolor\": \"#E5ECF6\", \"caxis\": {\"gridcolor\": \"white\", \"linecolor\": \"white\", \"ticks\": \"\"}}, \"title\": {\"x\": 0.05}, \"xaxis\": {\"automargin\": true, \"gridcolor\": \"white\", \"linecolor\": \"white\", \"ticks\": \"\", \"title\": {\"standoff\": 15}, \"zerolinecolor\": \"white\", \"zerolinewidth\": 2}, \"yaxis\": {\"automargin\": true, \"gridcolor\": \"white\", \"linecolor\": \"white\", \"ticks\": \"\", \"title\": {\"standoff\": 15}, \"zerolinecolor\": \"white\", \"zerolinewidth\": 2}}}},\n",
              "                        {\"responsive\": true}\n",
              "                    ).then(function(){\n",
              "                            \n",
              "var gd = document.getElementById('340f76d0-dc3b-459a-8501-266b6e5d3b78');\n",
              "var x = new MutationObserver(function (mutations, observer) {{\n",
              "        var display = window.getComputedStyle(gd).display;\n",
              "        if (!display || display === 'none') {{\n",
              "            console.log([gd, 'removed!']);\n",
              "            Plotly.purge(gd);\n",
              "            observer.disconnect();\n",
              "        }}\n",
              "}});\n",
              "\n",
              "// Listen for the removal of the full notebook cells\n",
              "var notebookContainer = gd.closest('#notebook-container');\n",
              "if (notebookContainer) {{\n",
              "    x.observe(notebookContainer, {childList: true});\n",
              "}}\n",
              "\n",
              "// Listen for the clearing of the current output cell\n",
              "var outputEl = gd.closest('.output');\n",
              "if (outputEl) {{\n",
              "    x.observe(outputEl, {childList: true});\n",
              "}}\n",
              "\n",
              "                        })\n",
              "                };\n",
              "                \n",
              "            </script>\n",
              "        </div>\n",
              "</body>\n",
              "</html>"
            ]
          },
          "metadata": {}
        }
      ]
    },
    {
      "cell_type": "code",
      "metadata": {
        "id": "89sbUj0MV_FL"
      },
      "source": [
        "###Downloading dependencies to save image\n",
        "# pip install -U kaleido #Static image dependency \n",
        "##Orca downloading process on colab\n",
        "# !pip install plotly>=4.7.1\n",
        "# !wget https://github.com/plotly/orca/releases/download/v1.2.1/orca-1.2.1-x86_64.AppImage -O /usr/local/bin/orca\n",
        "# !chmod +x /usr/local/bin/orca\n",
        "# !apt-get install xvfb libgtk2.0-0 libgconf-2-4"
      ],
      "execution_count": 10,
      "outputs": []
    },
    {
      "cell_type": "code",
      "metadata": {
        "id": "aYRdzIaLWI54"
      },
      "source": [
        "##Save Image/Chart\n",
        "# fig.write_image(\"df.pdf\")"
      ],
      "execution_count": 11,
      "outputs": []
    },
    {
      "cell_type": "markdown",
      "metadata": {
        "id": "ZqEHOHjf0sdx"
      },
      "source": [
        "Import NLP libraries and tools for pre-processing"
      ]
    },
    {
      "cell_type": "code",
      "metadata": {
        "id": "jZQXviqf5coh",
        "colab": {
          "base_uri": "https://localhost:8080/"
        },
        "outputId": "b35303f9-a39d-46ae-a1d2-3b66d6d78712"
      },
      "source": [
        "import re\n",
        "\n",
        "import nltk #Natural Language Tool Kit for pre-processing\n",
        "nltk.download('stopwords') #Stopwords removal\n",
        "from nltk.corpus import stopwords\n",
        "stopwords = stopwords.words(\"english\")\n",
        "stopwords.remove('not')\n",
        "stopwords.remove('no')\n",
        "\n",
        "nltk.download('wordnet') #To find Synonyme & Antonyme\n",
        "\n",
        "#Lemmatization\n",
        "from nltk.stem import WordNetLemmatizer\n",
        "lemmatizer = WordNetLemmatizer()\n",
        "\n",
        "#Stemming\n",
        "from nltk.stem import PorterStemmer\n",
        "stemmer = PorterStemmer()\n",
        "\n",
        "#Non-English word removal\n",
        "nltk.download('words')\n",
        "english_words = set(nltk.corpus.words.words())\n"
      ],
      "execution_count": 12,
      "outputs": [
        {
          "output_type": "stream",
          "name": "stdout",
          "text": [
            "[nltk_data] Downloading package stopwords to /root/nltk_data...\n",
            "[nltk_data]   Unzipping corpora/stopwords.zip.\n",
            "[nltk_data] Downloading package wordnet to /root/nltk_data...\n",
            "[nltk_data]   Unzipping corpora/wordnet.zip.\n",
            "[nltk_data] Downloading package words to /root/nltk_data...\n",
            "[nltk_data]   Unzipping corpora/words.zip.\n"
          ]
        }
      ]
    },
    {
      "cell_type": "markdown",
      "metadata": {
        "id": "3Vzdd8Dw15fj"
      },
      "source": [
        "Pre-Processing/Cleaning Data"
      ]
    },
    {
      "cell_type": "code",
      "metadata": {
        "id": "lSowwPf95e5k"
      },
      "source": [
        "'''                Cleaning                   '''\n",
        "\n",
        "lemma_cleaned_tweets = []\n",
        "stemmed_cleaned_tweets = []\n",
        "\n",
        "for i in range(len(df)):\n",
        "    NonSymbolicTweet_i = re.sub(\"[^a-zA-Z]\",\" \",df['text'][i])\n",
        "    LowerTweet_i = NonSymbolicTweet_i.lower()\n",
        "    TokenizedWordsOfTweet_i = LowerTweet_i.split()\n",
        "    #Lemmatization\n",
        "    LemmaWordsOfTweet_i = [lemmatizer.lemmatize(w) for w in TokenizedWordsOfTweet_i if w  not in stopwords ]\n",
        "    EnglishTweet = [w for w in LemmaWordsOfTweet_i if w in english_words]\n",
        "    CleanedTweet_i = \" \".join(EnglishTweet)\n",
        "    lemma_cleaned_tweets.append(CleanedTweet_i)\n",
        "\n",
        "    #Stemming\n",
        "    StemWordsOfTweet_i = [stemmer.stem(w) for w in TokenizedWordsOfTweet_i if w  not in stopwords]\n",
        "    stemmedEnglishTweet = [w for w in StemWordsOfTweet_i if w in english_words]\n",
        "    stemmedCleanedTweet_i = \" \".join(stemmedEnglishTweet)\n",
        "    stemmed_cleaned_tweets.append(stemmedCleanedTweet_i)"
      ],
      "execution_count": 13,
      "outputs": []
    },
    {
      "cell_type": "code",
      "metadata": {
        "id": "Ap11Zk0_51Hn"
      },
      "source": [
        "'''                Vectorization                   '''\n",
        "from sklearn.feature_extraction.text import TfidfVectorizer, CountVectorizer\n",
        "TfIdf = TfidfVectorizer() #object of Tf-Idf\n",
        "cv = CountVectorizer() #object of BOW\n",
        "\n",
        "#Bag of Words + Stemming features\n",
        "X_cv_stem = cv.fit_transform(stemmed_cleaned_tweets).toarray()\n",
        "\n",
        "#BOW + Lemmatization features\n",
        "X_cv_lemma = cv.fit_transform(lemma_cleaned_tweets).toarray()\n",
        "\n",
        "#Tf-Idf + Stemming features\n",
        "X_TfIdf_stem = TfIdf.fit_transform(stemmed_cleaned_tweets).toarray()\n",
        "\n",
        "#Tf-Idf + Lemmatization features\n",
        "X_TfIdf_lemma = TfIdf.fit_transform(lemma_cleaned_tweets).toarray()\n",
        "\n",
        "#Labels\n",
        "y = df['airline_sentiment']"
      ],
      "execution_count": 14,
      "outputs": []
    },
    {
      "cell_type": "code",
      "metadata": {
        "id": "McAXigIFS9V4"
      },
      "source": [
        "#Importing Classification Models\n",
        "from sklearn.naive_bayes import MultinomialNB,GaussianNB\n",
        "from sklearn.svm import SVC\n",
        "from sklearn.linear_model import LogisticRegression\n",
        "from sklearn.tree import DecisionTreeClassifier\n",
        "from sklearn.ensemble import RandomForestClassifier\n",
        "from sklearn.neighbors import KNeighborsClassifier"
      ],
      "execution_count": 15,
      "outputs": []
    },
    {
      "cell_type": "markdown",
      "metadata": {
        "id": "LGEYx4h3hKL4"
      },
      "source": [
        "# **MODEL BUILDING & DUMPTING**"
      ]
    },
    {
      "cell_type": "code",
      "metadata": {
        "colab": {
          "base_uri": "https://localhost:8080/",
          "height": 211
        },
        "id": "xgsYFDSISIv_",
        "outputId": "b007becb-0116-48a5-b9d8-550fbb4266ac"
      },
      "source": [
        "from sklearn.model_selection import train_test_split\n",
        "import joblib\n",
        "\n",
        "'''1. Bag of Words + Stemming '''\n",
        "X_train,X_test,y_train,y_test = train_test_split(X_cv_stem,y,test_size = .3, random_state = 146)\n",
        "\n",
        "'''2. Bag of Words + Lemmatization'''\n",
        "# X_train,X_test,y_train,y_test = train_test_split(X_cv_lemma,y,test_size = .3, random_state = 146)\n",
        "\n",
        "'''3. TF-IDF + Stemming '''\n",
        "# X_train,X_test,y_train,y_test = train_test_split(X_TfIdf_stem,y,test_size = .3, random_state = 146)\n",
        "\n",
        "'''4. Tf-Idf + Lemmatization'''\n",
        "# X_train,X_test,y_train,y_test = train_test_split(X_TfIdf_lemma,y,test_size = .3, random_state = 146)\n",
        "\n",
        "'''                             MODEL BUILDING                             '''\n",
        "SVCmodel = SVC().fit(X_train, y_train)\n",
        "MNBmodel = MultinomialNB().fit(X_train, y_train)\n",
        "GNBmodel = GaussianNB().fit(X_train,y_train)\n",
        "DTmodel = DecisionTreeClassifier().fit(X_train, y_train)\n",
        "RFmodel = RandomForestClassifier().fit(X_train, y_train)\n",
        "LRmodel = LogisticRegression().fit(X_train, y_train)\n",
        "KNNmodel = KNeighborsClassifier(n_neighbors = 5).fit(X_train, y_train)\n",
        "\n",
        "\n",
        "\n",
        "'''                             MODEL DUMPING                             '''\n",
        "\n",
        "'''1. BAG OF WORDS + STEMMING '''\n",
        "joblib.dump(SVCmodel,'SVC_BS') # B means Bag Of Words , S means Stemming, T means Term frequency Inverse document frequency, L means Lemmatization\n",
        "joblib.dump(MNBmodel,'MNB_BS')\n",
        "joblib.dump(GNBmodel,'GNB_BS')\n",
        "joblib.dump(DTmodel, 'DT_BS')\n",
        "joblib.dump(RFmodel, 'RF_BS')\n",
        "joblib.dump(LRmodel, 'LR_BS')\n",
        "\n",
        "'''2.  BAG OF WORDS + LEMMATIZATION'''\n",
        "# joblib.dump(SVCmodel,'SVC_BL')\n",
        "# joblib.dump(MNBmodel,'MNB_BL')\n",
        "# joblib.dump(GNBmodel,'GNB_BL')\n",
        "# joblib.dump(DTmodel, 'DT_BL')\n",
        "# joblib.dump(RFmodel, 'RF_BL')\n",
        "# joblib.dump(LRmodel, 'LR_BL')\n",
        "\n",
        "# '''3. TERM FREQUENCY - INVERSE DOCUMENT FREQUENCY + STEMMING'''\n",
        "# joblib.dump(SVCmodel,'SVC_TS')\n",
        "# joblib.dump(MNBmodel,'MNB_TS')\n",
        "# joblib.dump(GNBmodel,'GNB_TS')\n",
        "# joblib.dump(DTmodel, 'DT_TS')\n",
        "# joblib.dump(RFmodel, 'RF_TS')\n",
        "# joblib.dump(LRmodel, 'LR_TS')\n",
        "\n",
        "'''4. TERM FREQUENCY - INVERSE DOCUMENT FREQUENCY + LEMMATIZATION'''\n",
        "# joblib.dump(SVCmodel,'SVC_TL')\n",
        "# joblib.dump(MNBmodel,'MNB_TL')\n",
        "# joblib.dump(GNBmodel,'GNB_TL')\n",
        "# joblib.dump(DTmodel, 'DT_TL')\n",
        "# joblib.dump(RFmodel, 'RF_TL')\n",
        "# joblib.dump(LRmodel, 'LR_TL')\n",
        "\n",
        "\n",
        "'''                           DUMPING & BUILDING END                          '''"
      ],
      "execution_count": 18,
      "outputs": [
        {
          "output_type": "stream",
          "name": "stderr",
          "text": [
            "/usr/local/lib/python3.7/dist-packages/sklearn/linear_model/_logistic.py:818: ConvergenceWarning:\n",
            "\n",
            "lbfgs failed to converge (status=1):\n",
            "STOP: TOTAL NO. of ITERATIONS REACHED LIMIT.\n",
            "\n",
            "Increase the number of iterations (max_iter) or scale the data as shown in:\n",
            "    https://scikit-learn.org/stable/modules/preprocessing.html\n",
            "Please also refer to the documentation for alternative solver options:\n",
            "    https://scikit-learn.org/stable/modules/linear_model.html#logistic-regression\n",
            "\n"
          ]
        },
        {
          "output_type": "execute_result",
          "data": {
            "application/vnd.google.colaboratory.intrinsic+json": {
              "type": "string"
            },
            "text/plain": [
              "'                           DUMPING & BUILDING END                          '"
            ]
          },
          "metadata": {},
          "execution_count": 18
        }
      ]
    },
    {
      "cell_type": "markdown",
      "metadata": {
        "id": "FRIly6tnMhmK"
      },
      "source": [
        "# **JOBLIB MODEL LOADING**"
      ]
    },
    {
      "cell_type": "code",
      "metadata": {
        "colab": {
          "base_uri": "https://localhost:8080/"
        },
        "id": "aNMDHeB8ZbBi",
        "outputId": "d7bbcd35-4ba7-4a02-bb8c-c4f8d07d73e1"
      },
      "source": [
        "#Import Classification evaluation metrices\n",
        "from sklearn.metrics import accuracy_score, confusion_matrix, classification_report\n",
        "import joblib\n",
        "\n",
        "#Algorithm + Bag of words + Stemming\n",
        "svc_bs = joblib.load('SVC_BS')\n",
        "mnb_bs = joblib.load('MNB_BS')\n",
        "gnb_bs = joblib.load('GNB_BS')\n",
        "dt_bs = joblib.load('DT_BS')\n",
        "rf_bs = joblib.load('RF_BS')\n",
        "lr_bs = joblib.load('LR_BS')\n",
        "print(\"Algorithm + Bag of words + 'Stemming' Loaded\")\n",
        "\n",
        "# #Algorithm + Bag of words + Lemmatization\n",
        "# svc_bl = joblib.load('SVC_BL')\n",
        "# mnb_bl = joblib.load('MNB_BL')\n",
        "# gnb_bl = joblib.load('GNB_BL')\n",
        "# dt_bl = joblib.load('DT_BL')\n",
        "# rf_bl = joblib.load('RF_BL')\n",
        "# lr_bl = joblib.load('LR_BL')\n",
        "# print(\"Algorithm + Bag of words + 'Lemmatization' Loaded\")\n",
        "\n",
        "# #Algorithm + Term frequency Inverse document frequency + Stemming \n",
        "# svc_ts = joblib.load('SVC_TS')\n",
        "# mnb_ts = joblib.load('MNB_TS')\n",
        "# gnb_ts = joblib.load('GNB_TS')\n",
        "# dt_ts = joblib.load('DT_TS')\n",
        "# rf_ts = joblib.load('RF_TS')\n",
        "# lr_ts = joblib.load('LR_TS')\n",
        "# print(\"Algorithm + Tf-Idf + 'Stemming' Loaded\")\n",
        "\n",
        "# # #Algorithm + Term frequency Inverse document frequency + Lemmatization\n",
        "# svc_tl = joblib.load('SVC_TL')\n",
        "# mnb_tl = joblib.load('MNB_TL')\n",
        "# gnb_tl = joblib.load('GNB_TL')\n",
        "# dt_tl = joblib.load('DT_TL')\n",
        "# rf_tl = joblib.load('RF_TL')\n",
        "# lr_tl = joblib.load('LR_TL')\n",
        "# print(\"Algorithm + Tf-Idf + 'Lemmatization' Loaded\")\n",
        "\n",
        "\n"
      ],
      "execution_count": 20,
      "outputs": [
        {
          "output_type": "stream",
          "name": "stdout",
          "text": [
            "Algorithm + Bag of words + 'Stemming' Loaded\n"
          ]
        }
      ]
    },
    {
      "cell_type": "markdown",
      "metadata": {
        "id": "cdKHWfWAZYOw"
      },
      "source": [
        "# **JOBLIB PREDICTION & EVALUATION METRICES**"
      ]
    },
    {
      "cell_type": "markdown",
      "metadata": {
        "id": "cCEL7snggsTK"
      },
      "source": [
        "**Part 1**: Prediction of Bag of words + Stemming"
      ]
    },
    {
      "cell_type": "code",
      "metadata": {
        "colab": {
          "base_uri": "https://localhost:8080/"
        },
        "id": "bwZzUdALeXp9",
        "outputId": "fc5c24e9-0675-4836-e9b3-7edeb4de5d79"
      },
      "source": [
        "print(\"                         ##### Part 1: BOW + STEMMING #####                                        \")\n",
        "X_train,X_test,y_train,y_test = train_test_split(X_cv_stem,y,test_size = .3, random_state = 146)\n",
        "\n",
        "print(\">>>>>>>>>>>>>>     Support Vector Machine     <<<<<<<<<<<<\")\n",
        "pred = svc_bs.predict(X_test)\n",
        "score = accuracy_score(y_test,pred)\n",
        "print(score)\n",
        "conf = confusion_matrix(y_test,pred)\n",
        "print(conf)\n",
        "report = classification_report(y_test,pred)\n",
        "print(report)\n",
        "print(\" \")\n",
        "\n",
        "print(\">>>>>>>>>>>>>>     Multinomial Naive Bayes     <<<<<<<<<<<<\")\n",
        "pred = mnb_bs.predict(X_test)\n",
        "score = accuracy_score(y_test,pred)\n",
        "print(score)\n",
        "conf = confusion_matrix(y_test,pred)\n",
        "print(conf)\n",
        "report = classification_report(y_test,pred)\n",
        "print(report)\n",
        "print(\" \")\n",
        "\n",
        "print(\">>>>>>>>>>>>>>     Gaussian Naive Bayes     <<<<<<<<<<<<\")\n",
        "pred = gnb_bs.predict(X_test)\n",
        "score = accuracy_score(y_test,pred)\n",
        "print(score)\n",
        "conf = confusion_matrix(y_test,pred)\n",
        "print(conf)\n",
        "report = classification_report(y_test,pred)\n",
        "print(report)\n",
        "print(\" \")\n",
        "\n",
        "print(\">>>>>>>>>>>>>>     Decission Tree      <<<<<<<<<<<<\")\n",
        "pred = dt_bs.predict(X_test)\n",
        "score = accuracy_score(y_test,pred)\n",
        "print(score)\n",
        "conf = confusion_matrix(y_test,pred)\n",
        "print(conf)\n",
        "report = classification_report(y_test,pred)\n",
        "print(report)\n",
        "print(\" \")\n",
        "\n",
        "print(\">>>>>>>>>>>>>>     Random Forest     <<<<<<<<<<<<\")\n",
        "pred = rf_bs.predict(X_test)\n",
        "score = accuracy_score(y_test,pred)\n",
        "print(score)\n",
        "conf = confusion_matrix(y_test,pred)\n",
        "print(conf)\n",
        "report = classification_report(y_test,pred)\n",
        "print(report)\n",
        "print(\" \")\n",
        "\n",
        "print(\">>>>>>>>>>>>>>     Logistic Regression     <<<<<<<<<<<<\")\n",
        "pred = lr_bs.predict(X_test)\n",
        "score = accuracy_score(y_test,pred)\n",
        "print(score)\n",
        "conf = confusion_matrix(y_test,pred)\n",
        "print(conf)\n",
        "report = classification_report(y_test,pred)\n",
        "print(report)\n",
        "print(\" \")"
      ],
      "execution_count": 21,
      "outputs": [
        {
          "output_type": "stream",
          "name": "stdout",
          "text": [
            "                         ##### Part 1: BOW + STEMMING #####                                        \n",
            ">>>>>>>>>>>>>>     Support Vector Machine     <<<<<<<<<<<<\n",
            "0.7570582877959927\n",
            "[[2501  182   56]\n",
            " [ 424  431   71]\n",
            " [ 222  112  393]]\n",
            "              precision    recall  f1-score   support\n",
            "\n",
            "          -1       0.79      0.91      0.85      2739\n",
            "           0       0.59      0.47      0.52       926\n",
            "           1       0.76      0.54      0.63       727\n",
            "\n",
            "    accuracy                           0.76      4392\n",
            "   macro avg       0.71      0.64      0.67      4392\n",
            "weighted avg       0.75      0.76      0.74      4392\n",
            "\n",
            " \n",
            ">>>>>>>>>>>>>>     Multinomial Naive Bayes     <<<<<<<<<<<<\n",
            "0.7206284153005464\n",
            "[[2430  218   91]\n",
            " [ 530  310   86]\n",
            " [ 221   81  425]]\n",
            "              precision    recall  f1-score   support\n",
            "\n",
            "          -1       0.76      0.89      0.82      2739\n",
            "           0       0.51      0.33      0.40       926\n",
            "           1       0.71      0.58      0.64       727\n",
            "\n",
            "    accuracy                           0.72      4392\n",
            "   macro avg       0.66      0.60      0.62      4392\n",
            "weighted avg       0.70      0.72      0.70      4392\n",
            "\n",
            " \n",
            ">>>>>>>>>>>>>>     Gaussian Naive Bayes     <<<<<<<<<<<<\n",
            "0.30487249544626593\n",
            "[[ 577  568 1594]\n",
            " [  88  183  655]\n",
            " [  62   86  579]]\n",
            "              precision    recall  f1-score   support\n",
            "\n",
            "          -1       0.79      0.21      0.33      2739\n",
            "           0       0.22      0.20      0.21       926\n",
            "           1       0.20      0.80      0.33       727\n",
            "\n",
            "    accuracy                           0.30      4392\n",
            "   macro avg       0.41      0.40      0.29      4392\n",
            "weighted avg       0.57      0.30      0.31      4392\n",
            "\n",
            " \n",
            ">>>>>>>>>>>>>>     Decission Tree      <<<<<<<<<<<<\n",
            "0.6612021857923497\n",
            "[[2095  466  178]\n",
            " [ 363  427  136]\n",
            " [ 186  159  382]]\n",
            "              precision    recall  f1-score   support\n",
            "\n",
            "          -1       0.79      0.76      0.78      2739\n",
            "           0       0.41      0.46      0.43       926\n",
            "           1       0.55      0.53      0.54       727\n",
            "\n",
            "    accuracy                           0.66      4392\n",
            "   macro avg       0.58      0.58      0.58      4392\n",
            "weighted avg       0.67      0.66      0.67      4392\n",
            "\n",
            " \n",
            ">>>>>>>>>>>>>>     Random Forest     <<<<<<<<<<<<\n",
            "0.730191256830601\n",
            "[[2380  251  108]\n",
            " [ 405  402  119]\n",
            " [ 182  120  425]]\n",
            "              precision    recall  f1-score   support\n",
            "\n",
            "          -1       0.80      0.87      0.83      2739\n",
            "           0       0.52      0.43      0.47       926\n",
            "           1       0.65      0.58      0.62       727\n",
            "\n",
            "    accuracy                           0.73      4392\n",
            "   macro avg       0.66      0.63      0.64      4392\n",
            "weighted avg       0.72      0.73      0.72      4392\n",
            "\n",
            " \n",
            ">>>>>>>>>>>>>>     Logistic Regression     <<<<<<<<<<<<\n",
            "0.7547814207650273\n",
            "[[2388  265   86]\n",
            " [ 352  480   94]\n",
            " [ 157  123  447]]\n",
            "              precision    recall  f1-score   support\n",
            "\n",
            "          -1       0.82      0.87      0.85      2739\n",
            "           0       0.55      0.52      0.54       926\n",
            "           1       0.71      0.61      0.66       727\n",
            "\n",
            "    accuracy                           0.75      4392\n",
            "   macro avg       0.70      0.67      0.68      4392\n",
            "weighted avg       0.75      0.75      0.75      4392\n",
            "\n",
            " \n"
          ]
        }
      ]
    },
    {
      "cell_type": "markdown",
      "metadata": {
        "id": "6laLqq6U07ba"
      },
      "source": [
        "**Part 2**: Prediction of Bag of Words + Lemmatization"
      ]
    },
    {
      "cell_type": "code",
      "metadata": {
        "colab": {
          "base_uri": "https://localhost:8080/"
        },
        "id": "HfDZ2ZNm1AzG",
        "outputId": "6de20721-c56e-4bcf-980c-ed1567201379"
      },
      "source": [
        "X_train,X_test,y_train,y_test = train_test_split(X_cv_lemma,y,test_size = .3, random_state = 146)\n",
        "\n",
        "print(\"            ################## Bag Of Words & Lemmatization ###################          \")\n",
        "\n",
        "print(\">>>>>>>>>>>>>>     Support Vector Machine     <<<<<<<<<<<<\")\n",
        "pred = svc_bl.predict(X_test)\n",
        "score = accuracy_score(y_test,pred)\n",
        "print(score)\n",
        "conf = confusion_matrix(y_test,pred)\n",
        "print(conf)\n",
        "report = classification_report(y_test,pred)\n",
        "print(report)\n",
        "print(\" \")\n",
        "\n",
        "print(\">>>>>>>>>>>>>>     Multinomial Naive Bayes     <<<<<<<<<<<<\")\n",
        "pred = mnb_bl.predict(X_test)\n",
        "score = accuracy_score(y_test,pred)\n",
        "print(score)\n",
        "conf = confusion_matrix(y_test,pred)\n",
        "print(conf)\n",
        "report = classification_report(y_test,pred)\n",
        "print(report)\n",
        "print(\" \")\n",
        "\n",
        "print(\">>>>>>>>>>>>>>     Gaussian Naive Bayes     <<<<<<<<<<<<\")\n",
        "pred = gnb_bl.predict(X_test)\n",
        "score = accuracy_score(y_test,pred)\n",
        "print(score)\n",
        "conf = confusion_matrix(y_test,pred)\n",
        "print(conf)\n",
        "report = classification_report(y_test,pred)\n",
        "print(report)\n",
        "print(\" \")\n",
        "\n",
        "print(\">>>>>>>>>>>>>>     Decission Tree      <<<<<<<<<<<<\")\n",
        "pred = dt_bl.predict(X_test)\n",
        "score = accuracy_score(y_test,pred)\n",
        "print(score)\n",
        "conf = confusion_matrix(y_test,pred)\n",
        "print(conf)\n",
        "report = classification_report(y_test,pred)\n",
        "print(report)\n",
        "print(\" \")\n",
        "\n",
        "print(\">>>>>>>>>>>>>>     Random Forest     <<<<<<<<<<<<\")\n",
        "pred = rf_bl.predict(X_test)\n",
        "score = accuracy_score(y_test,pred)\n",
        "print(score)\n",
        "conf = confusion_matrix(y_test,pred)\n",
        "print(conf)\n",
        "report = classification_report(y_test,pred)\n",
        "print(report)\n",
        "print(\" \")\n",
        "\n",
        "print(\">>>>>>>>>>>>>>     Logistic Regression     <<<<<<<<<<<<\")\n",
        "pred = lr_bl.predict(X_test)\n",
        "score = accuracy_score(y_test,pred)\n",
        "print(score)\n",
        "conf = confusion_matrix(y_test,pred)\n",
        "print(conf)\n",
        "report = classification_report(y_test,pred)\n",
        "print(report)\n",
        "print(\" \")"
      ],
      "execution_count": null,
      "outputs": [
        {
          "output_type": "stream",
          "text": [
            "            ################## Bag Of Words & Lemmatization ###################          \n",
            ">>>>>>>>>>>>>>     Support Vector Machine     <<<<<<<<<<<<\n",
            "0.7652550091074681\n",
            "[[2502  191   46]\n",
            " [ 412  451   63]\n",
            " [ 216  103  408]]\n",
            "              precision    recall  f1-score   support\n",
            "\n",
            "          -1       0.79      0.91      0.85      2739\n",
            "           0       0.59      0.47      0.52       926\n",
            "           1       0.76      0.54      0.63       727\n",
            "\n",
            "    accuracy                           0.76      4392\n",
            "   macro avg       0.71      0.64      0.67      4392\n",
            "weighted avg       0.75      0.76      0.74      4392\n",
            "\n",
            " \n",
            ">>>>>>>>>>>>>>     Multinomial Naive Bayes     <<<<<<<<<<<<\n",
            "0.7399817850637522\n",
            "[[2474  191   74]\n",
            " [ 509  336   81]\n",
            " [ 218   69  440]]\n",
            "              precision    recall  f1-score   support\n",
            "\n",
            "          -1       0.79      0.91      0.85      2739\n",
            "           0       0.59      0.47      0.52       926\n",
            "           1       0.76      0.54      0.63       727\n",
            "\n",
            "    accuracy                           0.76      4392\n",
            "   macro avg       0.71      0.64      0.67      4392\n",
            "weighted avg       0.75      0.76      0.74      4392\n",
            "\n",
            " \n",
            ">>>>>>>>>>>>>>     Gaussian Naive Bayes     <<<<<<<<<<<<\n",
            "0.39913479052823314\n",
            "[[ 988  630 1121]\n",
            " [ 137  230  559]\n",
            " [  99   93  535]]\n",
            "              precision    recall  f1-score   support\n",
            "\n",
            "          -1       0.79      0.91      0.85      2739\n",
            "           0       0.59      0.47      0.52       926\n",
            "           1       0.76      0.54      0.63       727\n",
            "\n",
            "    accuracy                           0.76      4392\n",
            "   macro avg       0.71      0.64      0.67      4392\n",
            "weighted avg       0.75      0.76      0.74      4392\n",
            "\n",
            " \n",
            ">>>>>>>>>>>>>>     Decission Tree      <<<<<<<<<<<<\n",
            "0.6632513661202186\n",
            "[[2068  482  189]\n",
            " [ 342  463  121]\n",
            " [ 182  163  382]]\n",
            "              precision    recall  f1-score   support\n",
            "\n",
            "          -1       0.79      0.91      0.85      2739\n",
            "           0       0.59      0.47      0.52       926\n",
            "           1       0.76      0.54      0.63       727\n",
            "\n",
            "    accuracy                           0.76      4392\n",
            "   macro avg       0.71      0.64      0.67      4392\n",
            "weighted avg       0.75      0.76      0.74      4392\n",
            "\n",
            " \n",
            ">>>>>>>>>>>>>>     Random Forest     <<<<<<<<<<<<\n",
            "0.7431693989071039\n",
            "[[2391  271   77]\n",
            " [ 388  442   96]\n",
            " [ 180  116  431]]\n",
            "              precision    recall  f1-score   support\n",
            "\n",
            "          -1       0.79      0.91      0.85      2739\n",
            "           0       0.59      0.47      0.52       926\n",
            "           1       0.76      0.54      0.63       727\n",
            "\n",
            "    accuracy                           0.76      4392\n",
            "   macro avg       0.71      0.64      0.67      4392\n",
            "weighted avg       0.75      0.76      0.74      4392\n",
            "\n",
            " \n",
            ">>>>>>>>>>>>>>     Logistic Regression     <<<<<<<<<<<<\n",
            "0.7711748633879781\n",
            "[[2410  259   70]\n",
            " [ 337  506   83]\n",
            " [ 151  105  471]]\n",
            "              precision    recall  f1-score   support\n",
            "\n",
            "          -1       0.79      0.91      0.85      2739\n",
            "           0       0.59      0.47      0.52       926\n",
            "           1       0.76      0.54      0.63       727\n",
            "\n",
            "    accuracy                           0.76      4392\n",
            "   macro avg       0.71      0.64      0.67      4392\n",
            "weighted avg       0.75      0.76      0.74      4392\n",
            "\n",
            " \n"
          ],
          "name": "stdout"
        }
      ]
    },
    {
      "cell_type": "markdown",
      "metadata": {
        "id": "7zfyYaVf2S_m"
      },
      "source": [
        "**Part 3**: Prediction of Term frequency Inverse document frequency + *Stemming*"
      ]
    },
    {
      "cell_type": "code",
      "metadata": {
        "colab": {
          "base_uri": "https://localhost:8080/"
        },
        "id": "RrKolpUgMBgW",
        "outputId": "6bc853a0-8ed0-4581-d504-6882eb9a210f"
      },
      "source": [
        "X_train,X_test,y_train,y_test = train_test_split(X_TfIdf_stem,y,test_size = .3, random_state = 146)\n",
        "print(\"                         ###################Prediction of Term frequency Inverse document frequency + *Stemming* ########              \")\n",
        "\n",
        "print(\">>>>>>>>>>>>>>     Support Vector Machine     <<<<<<<<<<<<\")\n",
        "pred = svc_ts.predict(X_test)\n",
        "score = accuracy_score(y_test,pred)\n",
        "print(score)\n",
        "conf = confusion_matrix(y_test,pred)\n",
        "print(conf)\n",
        "report = classification_report(y_test,pred)\n",
        "print(report)\n",
        "print(\" \")\n",
        "\n",
        "print(\">>>>>>>>>>>>>>     Multinomial Naive Bayes     <<<<<<<<<<<<\")\n",
        "pred = mnb_ts.predict(X_test)\n",
        "score = accuracy_score(y_test,pred)\n",
        "print(score)\n",
        "conf = confusion_matrix(y_test,pred)\n",
        "print(conf)\n",
        "report = classification_report(y_test,pred)\n",
        "print(report)\n",
        "print(\" \")\n",
        "\n",
        "print(\">>>>>>>>>>>>>>     Gaussian Naive Bayes     <<<<<<<<<<<<\")\n",
        "pred = gnb_ts.predict(X_test)\n",
        "score = accuracy_score(y_test,pred)\n",
        "print(score)\n",
        "conf = confusion_matrix(y_test,pred)\n",
        "print(conf)\n",
        "report = classification_report(y_test,pred)\n",
        "print(report)\n",
        "print(\" \")\n",
        "\n",
        "print(\">>>>>>>>>>>>>>     Decission Tree      <<<<<<<<<<<<\")\n",
        "pred = dt_ts.predict(X_test)\n",
        "score = accuracy_score(y_test,pred)\n",
        "print(score)\n",
        "conf = confusion_matrix(y_test,pred)\n",
        "print(conf)\n",
        "report = classification_report(y_test,pred)\n",
        "print(report)\n",
        "print(\" \")\n",
        "\n",
        "print(\">>>>>>>>>>>>>>     Random Forest     <<<<<<<<<<<<\")\n",
        "pred = rf_ts.predict(X_test)\n",
        "score = accuracy_score(y_test,pred)\n",
        "print(score)\n",
        "conf = confusion_matrix(y_test,pred)\n",
        "print(conf)\n",
        "report = classification_report(y_test,pred)\n",
        "print(report)\n",
        "print(\" \")\n",
        "\n",
        "print(\">>>>>>>>>>>>>>     Logistic Regression     <<<<<<<<<<<<\")\n",
        "pred = lr_ts.predict(X_test)\n",
        "score = accuracy_score(y_test,pred)\n",
        "print(score)\n",
        "conf = confusion_matrix(y_test,pred)\n",
        "print(conf)\n",
        "report = classification_report(y_test,pred)\n",
        "print(report)\n",
        "print(\" \")\n"
      ],
      "execution_count": null,
      "outputs": [
        {
          "output_type": "stream",
          "text": [
            "                         ###################Prediction of Term frequency Inverse document frequency + *Stemming* ########              \n",
            ">>>>>>>>>>>>>>     Support Vector Machine     <<<<<<<<<<<<\n",
            "0.7550091074681239\n",
            "[[2582  108   49]\n",
            " [ 522  329   75]\n",
            " [ 243   79  405]]\n",
            "              precision    recall  f1-score   support\n",
            "\n",
            "          -1       0.79      0.91      0.85      2739\n",
            "           0       0.59      0.47      0.52       926\n",
            "           1       0.76      0.54      0.63       727\n",
            "\n",
            "    accuracy                           0.76      4392\n",
            "   macro avg       0.71      0.64      0.67      4392\n",
            "weighted avg       0.75      0.76      0.74      4392\n",
            "\n",
            " \n",
            ">>>>>>>>>>>>>>     Multinomial Naive Bayes     <<<<<<<<<<<<\n",
            "0.6953551912568307\n",
            "[[2692   38    9]\n",
            " [ 740  152   34]\n",
            " [ 478   39  210]]\n",
            "              precision    recall  f1-score   support\n",
            "\n",
            "          -1       0.79      0.91      0.85      2739\n",
            "           0       0.59      0.47      0.52       926\n",
            "           1       0.76      0.54      0.63       727\n",
            "\n",
            "    accuracy                           0.76      4392\n",
            "   macro avg       0.71      0.64      0.67      4392\n",
            "weighted avg       0.75      0.76      0.74      4392\n",
            "\n",
            " \n",
            ">>>>>>>>>>>>>>     Gaussian Naive Bayes     <<<<<<<<<<<<\n",
            "0.30623861566484517\n",
            "[[ 580  594 1565]\n",
            " [  89  194  643]\n",
            " [  63   93  571]]\n",
            "              precision    recall  f1-score   support\n",
            "\n",
            "          -1       0.79      0.91      0.85      2739\n",
            "           0       0.59      0.47      0.52       926\n",
            "           1       0.76      0.54      0.63       727\n",
            "\n",
            "    accuracy                           0.76      4392\n",
            "   macro avg       0.71      0.64      0.67      4392\n",
            "weighted avg       0.75      0.76      0.74      4392\n",
            "\n",
            " \n",
            ">>>>>>>>>>>>>>     Decission Tree      <<<<<<<<<<<<\n",
            "0.6860200364298725\n",
            "[[2232  352  155]\n",
            " [ 409  398  119]\n",
            " [ 203  141  383]]\n",
            "              precision    recall  f1-score   support\n",
            "\n",
            "          -1       0.79      0.91      0.85      2739\n",
            "           0       0.59      0.47      0.52       926\n",
            "           1       0.76      0.54      0.63       727\n",
            "\n",
            "    accuracy                           0.76      4392\n",
            "   macro avg       0.71      0.64      0.67      4392\n",
            "weighted avg       0.75      0.76      0.74      4392\n",
            "\n",
            " \n",
            ">>>>>>>>>>>>>>     Random Forest     <<<<<<<<<<<<\n",
            "0.7372495446265938\n",
            "[[2501  169   69]\n",
            " [ 469  359   98]\n",
            " [ 252   97  378]]\n",
            "              precision    recall  f1-score   support\n",
            "\n",
            "          -1       0.79      0.91      0.85      2739\n",
            "           0       0.59      0.47      0.52       926\n",
            "           1       0.76      0.54      0.63       727\n",
            "\n",
            "    accuracy                           0.76      4392\n",
            "   macro avg       0.71      0.64      0.67      4392\n",
            "weighted avg       0.75      0.76      0.74      4392\n",
            "\n",
            " \n",
            ">>>>>>>>>>>>>>     Logistic Regression     <<<<<<<<<<<<\n",
            "0.7568306010928961\n",
            "[[2511  177   51]\n",
            " [ 448  404   74]\n",
            " [ 206  112  409]]\n",
            "              precision    recall  f1-score   support\n",
            "\n",
            "          -1       0.79      0.91      0.85      2739\n",
            "           0       0.59      0.47      0.52       926\n",
            "           1       0.76      0.54      0.63       727\n",
            "\n",
            "    accuracy                           0.76      4392\n",
            "   macro avg       0.71      0.64      0.67      4392\n",
            "weighted avg       0.75      0.76      0.74      4392\n",
            "\n",
            " \n"
          ],
          "name": "stdout"
        }
      ]
    },
    {
      "cell_type": "markdown",
      "metadata": {
        "id": "OfdkRdCI33IY"
      },
      "source": [
        "**Part 4**: Prediction of Term frequency - Inverse document frequency  + Lemmatization"
      ]
    },
    {
      "cell_type": "code",
      "metadata": {
        "colab": {
          "base_uri": "https://localhost:8080/"
        },
        "id": "Ddm03I-RMVPP",
        "outputId": "4fd38b14-45c2-432e-b2fc-e94f4a5bbf5b"
      },
      "source": [
        "X_train,X_test,y_train,y_test = train_test_split(X_TfIdf_lemma,y,test_size = .3, random_state = 146)\n",
        "print(\"    #### Prediction of Tf-Idf + Lemmatization ####     \")\n",
        "\n",
        "print(\">>>>>>>>>>>>>>     Support Vector Machine     <<<<<<<<<<<<\")\n",
        "pred = svc_tl.predict(X_test)\n",
        "score = accuracy_score(y_test,pred)\n",
        "print(score)\n",
        "conf = confusion_matrix(y_test,pred)\n",
        "print(conf)\n",
        "report = classification_report(y_test,pred)\n",
        "print(report)\n",
        "print(\" \")\n",
        "\n",
        "print(\">>>>>>>>>>>>>>     Multinomial Naive Bayes     <<<<<<<<<<<<\")\n",
        "pred = mnb_tl.predict(X_test)\n",
        "score = accuracy_score(y_test,pred)\n",
        "print(score)\n",
        "conf = confusion_matrix(y_test,pred)\n",
        "print(conf)\n",
        "report = classification_report(y_test,pred)\n",
        "print(report)\n",
        "print(\" \")\n",
        "\n",
        "print(\">>>>>>>>>>>>>>     Gaussian Naive Bayes     <<<<<<<<<<<<\")\n",
        "pred = gnb_tl.predict(X_test)\n",
        "score = accuracy_score(y_test,pred)\n",
        "print(score)\n",
        "conf = confusion_matrix(y_test,pred)\n",
        "print(conf)\n",
        "report = classification_report(y_test,pred)\n",
        "print(report)\n",
        "print(\" \")\n",
        "\n",
        "print(\">>>>>>>>>>>>>>     Decission Tree      <<<<<<<<<<<<\")\n",
        "pred = dt_tl.predict(X_test)\n",
        "score = accuracy_score(y_test,pred)\n",
        "print(score)\n",
        "conf = confusion_matrix(y_test,pred)\n",
        "print(conf)\n",
        "report = classification_report(y_test,pred)\n",
        "print(report)\n",
        "print(\" \")\n",
        "\n",
        "print(\">>>>>>>>>>>>>>     Random Forest     <<<<<<<<<<<<\")\n",
        "pred = rf_tl.predict(X_test)\n",
        "score = accuracy_score(y_test,pred)\n",
        "print(score)\n",
        "conf = confusion_matrix(y_test,pred)\n",
        "print(conf)\n",
        "report = classification_report(y_test,svc_bs_pred)\n",
        "print(report)\n",
        "print(\" \")\n",
        "\n",
        "print(\">>>>>>>>>>>>>>     Logistic Regression     <<<<<<<<<<<<\")\n",
        "pred = lr_tl.predict(X_test)\n",
        "score = accuracy_score(y_test,pred)\n",
        "print(score)\n",
        "conf = confusion_matrix(y_test,pred)\n",
        "print(conf)\n",
        "report = classification_report(y_test,pred)\n",
        "print(report)\n",
        "print(\" \")"
      ],
      "execution_count": null,
      "outputs": [
        {
          "output_type": "stream",
          "text": [
            "    #### Prediction of Tf-Idf + Lemmatization ####     \n",
            ">>>>>>>>>>>>>>     Support Vector Machine     <<<<<<<<<<<<\n",
            "0.7663934426229508\n",
            "[[2618   85   36]\n",
            " [ 534  334   58]\n",
            " [ 253   60  414]]\n",
            "              precision    recall  f1-score   support\n",
            "\n",
            "          -1       0.79      0.91      0.85      2739\n",
            "           0       0.59      0.47      0.52       926\n",
            "           1       0.76      0.54      0.63       727\n",
            "\n",
            "    accuracy                           0.76      4392\n",
            "   macro avg       0.71      0.64      0.67      4392\n",
            "weighted avg       0.75      0.76      0.74      4392\n",
            "\n",
            " \n",
            ">>>>>>>>>>>>>>     Multinomial Naive Bayes     <<<<<<<<<<<<\n",
            "0.6985428051001822\n",
            "[[2703   28    8]\n",
            " [ 754  147   25]\n",
            " [ 473   36  218]]\n",
            "              precision    recall  f1-score   support\n",
            "\n",
            "          -1       0.79      0.91      0.85      2739\n",
            "           0       0.59      0.47      0.52       926\n",
            "           1       0.76      0.54      0.63       727\n",
            "\n",
            "    accuracy                           0.76      4392\n",
            "   macro avg       0.71      0.64      0.67      4392\n",
            "weighted avg       0.75      0.76      0.74      4392\n",
            "\n",
            " \n",
            ">>>>>>>>>>>>>>     Gaussian Naive Bayes     <<<<<<<<<<<<\n",
            "0.40323315118397085\n",
            "[[1004  638 1097]\n",
            " [ 140  241  545]\n",
            " [ 103   98  526]]\n",
            "              precision    recall  f1-score   support\n",
            "\n",
            "          -1       0.79      0.91      0.85      2739\n",
            "           0       0.59      0.47      0.52       926\n",
            "           1       0.76      0.54      0.63       727\n",
            "\n",
            "    accuracy                           0.76      4392\n",
            "   macro avg       0.71      0.64      0.67      4392\n",
            "weighted avg       0.75      0.76      0.74      4392\n",
            "\n",
            " \n",
            ">>>>>>>>>>>>>>     Decission Tree      <<<<<<<<<<<<\n",
            "0.6914845173041895\n",
            "[[2255  333  151]\n",
            " [ 409  401  116]\n",
            " [ 227  119  381]]\n",
            "              precision    recall  f1-score   support\n",
            "\n",
            "          -1       0.79      0.91      0.85      2739\n",
            "           0       0.59      0.47      0.52       926\n",
            "           1       0.76      0.54      0.63       727\n",
            "\n",
            "    accuracy                           0.76      4392\n",
            "   macro avg       0.71      0.64      0.67      4392\n",
            "weighted avg       0.75      0.76      0.74      4392\n",
            "\n",
            " \n",
            ">>>>>>>>>>>>>>     Random Forest     <<<<<<<<<<<<\n",
            "0.7447632058287796\n",
            "[[2530  158   51]\n",
            " [ 485  364   77]\n",
            " [ 260   90  377]]\n",
            "              precision    recall  f1-score   support\n",
            "\n",
            "          -1       0.79      0.91      0.85      2739\n",
            "           0       0.59      0.47      0.52       926\n",
            "           1       0.76      0.54      0.63       727\n",
            "\n",
            "    accuracy                           0.76      4392\n",
            "   macro avg       0.71      0.64      0.67      4392\n",
            "weighted avg       0.75      0.76      0.74      4392\n",
            "\n",
            " \n",
            ">>>>>>>>>>>>>>     Logistic Regression     <<<<<<<<<<<<\n",
            "0.7723132969034608\n",
            "[[2533  169   37]\n",
            " [ 443  426   57]\n",
            " [ 199   95  433]]\n",
            "              precision    recall  f1-score   support\n",
            "\n",
            "          -1       0.79      0.91      0.85      2739\n",
            "           0       0.59      0.47      0.52       926\n",
            "           1       0.76      0.54      0.63       727\n",
            "\n",
            "    accuracy                           0.76      4392\n",
            "   macro avg       0.71      0.64      0.67      4392\n",
            "weighted avg       0.75      0.76      0.74      4392\n",
            "\n",
            " \n"
          ],
          "name": "stdout"
        }
      ]
    },
    {
      "cell_type": "code",
      "metadata": {
        "id": "63C6Ut986bAH"
      },
      "source": [
        "# print(f\"LogisticR: {LRmodel.score(X_test,y_test)*100}, SVC:{SVCmodel.score(X_test,y_test)*100}, Naive Bayes: {NBmodel.score(X_test,y_test)*100},KNN: {KNNmodel.score(X_test,y_test)*100},  Decission Tree: {DTmodel.score(X_test,y_test)*100}, Random Forest: {RFmodel.score(X_test,y_test)*100 :.2f} \")"
      ],
      "execution_count": null,
      "outputs": []
    }
  ]
}